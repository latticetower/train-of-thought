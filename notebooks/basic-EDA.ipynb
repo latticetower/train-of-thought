{
 "cells": [
  {
   "cell_type": "markdown",
   "id": "original-intelligence",
   "metadata": {},
   "source": [
    "### Description\n",
    "\n",
    "Here should be exploratorial analysis - different plots, attempts to understand data, etc."
   ]
  },
  {
   "cell_type": "code",
   "execution_count": 16,
   "id": "infectious-priest",
   "metadata": {},
   "outputs": [],
   "source": [
    "import os\n",
    "import sys\n",
    "import warnings\n",
    "warnings.filterwarnings('ignore')\n",
    "\n",
    "import pandas as pd\n",
    "import numpy as np\n",
    "import matplotlib.pyplot as plt\n",
    "%matplotlib inline"
   ]
  },
  {
   "cell_type": "code",
   "execution_count": 2,
   "id": "technical-compact",
   "metadata": {},
   "outputs": [
    {
     "data": {
      "text/plain": [
       "['.DS_Store',\n",
       " 'description.txt',\n",
       " 'input_wagon.xlsx',\n",
       " 'output_wagon.xlsx',\n",
       " 'wagon.zip']"
      ]
     },
     "execution_count": 2,
     "metadata": {},
     "output_type": "execute_result"
    }
   ],
   "source": [
    "os.listdir(\"../data\")"
   ]
  },
  {
   "cell_type": "code",
   "execution_count": 3,
   "id": "valuable-ratio",
   "metadata": {},
   "outputs": [],
   "source": [
    "df = pd.read_excel(\"../data/input_wagon.xlsx\", sheet_name=None)"
   ]
  },
  {
   "cell_type": "code",
   "execution_count": 4,
   "id": "narrative-uncle",
   "metadata": {},
   "outputs": [
    {
     "data": {
      "text/plain": [
       "['Orders_07',\n",
       " 'Orders_08',\n",
       " 'WagonModelCompatibility',\n",
       " 'sources',\n",
       " 'standplaces',\n",
       " 'Metrics']"
      ]
     },
     "execution_count": 4,
     "metadata": {},
     "output_type": "execute_result"
    }
   ],
   "source": [
    "list(df)"
   ]
  },
  {
   "cell_type": "markdown",
   "id": "charming-fighter",
   "metadata": {},
   "source": [
    "# EDA таблиц\n",
    "\n",
    "## 1. Orders_07\n",
    "\n",
    "Что сделать/выяснить:\n",
    "- [ ] посмотреть ID заказа - есть ли закономерности. Часть номеров короткие - с чем это может быть связано?\n",
    "- [ ] тариф: как интерпретировать набор цифр с разделителями?"
   ]
  },
  {
   "cell_type": "code",
   "execution_count": 5,
   "id": "portuguese-bulgaria",
   "metadata": {},
   "outputs": [
    {
     "name": "stdout",
     "output_type": "stream",
     "text": [
      "OrderNum - ID заказа\n",
      "Start - Вершина старта\n",
      "Finish - Вершина финиша\n",
      "StartDate - Дата старта относительно дня запуска расчета, сутки\n",
      "Dur - Время выполнения заказа (движения по арке+погрузка и разгрузка, сутки)\n",
      "MinUnit - Минимальный обьем заказа, вагоны\n",
      "MaxUnit - Максимальный обьем заказа, вагоны\n",
      "Tariff - Тариф в зависимотси от отклонения от даты старта ( за вагон), рубли\n",
      "NeedWagonModel - Запрошенная категория вагона\n",
      "ShortagePenalty - Категория приоритетности заказа (убывание от 1 до 4)\n"
     ]
    }
   ],
   "source": [
    "def read_table(table_name=\"Orders_07\"):\n",
    "    table_df = df[table_name]\n",
    "    columns = table_df.columns\n",
    "    column_names = table_df.iloc[0].values\n",
    "    table_df = table_df.loc[1:]\n",
    "    table_df.columns = column_names\n",
    "    for c, d in zip(columns, column_names):\n",
    "        print(d, \"-\", c)\n",
    "    return table_df\n",
    "\n",
    "orders7 = read_table(\"Orders_07\")"
   ]
  },
  {
   "cell_type": "code",
   "execution_count": null,
   "id": "incomplete-disco",
   "metadata": {},
   "outputs": [],
   "source": []
  },
  {
   "cell_type": "code",
   "execution_count": 18,
   "id": "herbal-beast",
   "metadata": {},
   "outputs": [
    {
     "data": {
      "text/html": [
       "<div>\n",
       "<style scoped>\n",
       "    .dataframe tbody tr th:only-of-type {\n",
       "        vertical-align: middle;\n",
       "    }\n",
       "\n",
       "    .dataframe tbody tr th {\n",
       "        vertical-align: top;\n",
       "    }\n",
       "\n",
       "    .dataframe thead th {\n",
       "        text-align: right;\n",
       "    }\n",
       "</style>\n",
       "<table border=\"1\" class=\"dataframe\">\n",
       "  <thead>\n",
       "    <tr style=\"text-align: right;\">\n",
       "      <th></th>\n",
       "      <th>OrderNum</th>\n",
       "      <th>Start</th>\n",
       "      <th>Finish</th>\n",
       "      <th>StartDate</th>\n",
       "      <th>Dur</th>\n",
       "      <th>MinUnit</th>\n",
       "      <th>MaxUnit</th>\n",
       "      <th>Tariff</th>\n",
       "      <th>NeedWagonModel</th>\n",
       "      <th>ShortagePenalty</th>\n",
       "    </tr>\n",
       "  </thead>\n",
       "  <tbody>\n",
       "    <tr>\n",
       "      <th>1</th>\n",
       "      <td>302201_812941937003_0707</td>\n",
       "      <td>932103</td>\n",
       "      <td>937003</td>\n",
       "      <td>0</td>\n",
       "      <td>13</td>\n",
       "      <td>3</td>\n",
       "      <td>3</td>\n",
       "      <td>53514:52334:51154:49974</td>\n",
       "      <td>2039</td>\n",
       "      <td>4</td>\n",
       "    </tr>\n",
       "    <tr>\n",
       "      <th>2</th>\n",
       "      <td>303139_830582944702_0707</td>\n",
       "      <td>946801</td>\n",
       "      <td>944702</td>\n",
       "      <td>0</td>\n",
       "      <td>13</td>\n",
       "      <td>2</td>\n",
       "      <td>3</td>\n",
       "      <td>8550:7370:6190:5010</td>\n",
       "      <td>2025</td>\n",
       "      <td>4</td>\n",
       "    </tr>\n",
       "    <tr>\n",
       "      <th>3</th>\n",
       "      <td>303933_830578944702_0707</td>\n",
       "      <td>946801</td>\n",
       "      <td>944702</td>\n",
       "      <td>0</td>\n",
       "      <td>13</td>\n",
       "      <td>2</td>\n",
       "      <td>3</td>\n",
       "      <td>8550:7370:6190:5010</td>\n",
       "      <td>2025</td>\n",
       "      <td>4</td>\n",
       "    </tr>\n",
       "    <tr>\n",
       "      <th>4</th>\n",
       "      <td>305170_830580944702_0707</td>\n",
       "      <td>946801</td>\n",
       "      <td>944702</td>\n",
       "      <td>0</td>\n",
       "      <td>13</td>\n",
       "      <td>2</td>\n",
       "      <td>3</td>\n",
       "      <td>8550:7370:6190:5010</td>\n",
       "      <td>2025</td>\n",
       "      <td>4</td>\n",
       "    </tr>\n",
       "    <tr>\n",
       "      <th>5</th>\n",
       "      <td>303071_814704942105_0707</td>\n",
       "      <td>946801</td>\n",
       "      <td>942105</td>\n",
       "      <td>0</td>\n",
       "      <td>14</td>\n",
       "      <td>2</td>\n",
       "      <td>2</td>\n",
       "      <td>25768:24588:23408:22228</td>\n",
       "      <td>2011</td>\n",
       "      <td>4</td>\n",
       "    </tr>\n",
       "  </tbody>\n",
       "</table>\n",
       "</div>"
      ],
      "text/plain": [
       "                   OrderNum   Start  Finish StartDate Dur MinUnit MaxUnit  \\\n",
       "1  302201_812941937003_0707  932103  937003         0  13       3       3   \n",
       "2  303139_830582944702_0707  946801  944702         0  13       2       3   \n",
       "3  303933_830578944702_0707  946801  944702         0  13       2       3   \n",
       "4  305170_830580944702_0707  946801  944702         0  13       2       3   \n",
       "5  303071_814704942105_0707  946801  942105         0  14       2       2   \n",
       "\n",
       "                    Tariff NeedWagonModel ShortagePenalty  \n",
       "1  53514:52334:51154:49974           2039               4  \n",
       "2      8550:7370:6190:5010           2025               4  \n",
       "3      8550:7370:6190:5010           2025               4  \n",
       "4      8550:7370:6190:5010           2025               4  \n",
       "5  25768:24588:23408:22228           2011               4  "
      ]
     },
     "execution_count": 18,
     "metadata": {},
     "output_type": "execute_result"
    }
   ],
   "source": [
    "orders7.head()"
   ]
  },
  {
   "cell_type": "code",
   "execution_count": null,
   "id": "emotional-private",
   "metadata": {},
   "outputs": [],
   "source": []
  },
  {
   "cell_type": "code",
   "execution_count": 7,
   "id": "active-planning",
   "metadata": {},
   "outputs": [
    {
     "data": {
      "text/plain": [
       "(709,)"
      ]
     },
     "execution_count": 7,
     "metadata": {},
     "output_type": "execute_result"
    }
   ],
   "source": [
    "start_nodes = orders7.Start\n",
    "end_nodes = orders7.Finish\n",
    "nodes = np.concatenate([\n",
    "    np.unique(start_nodes),\n",
    "    np.unique(end_nodes)\n",
    "])\n",
    "nodes = np.unique(nodes)\n",
    "nodes.shape"
   ]
  },
  {
   "cell_type": "code",
   "execution_count": null,
   "id": "vocal-enforcement",
   "metadata": {},
   "outputs": [],
   "source": []
  },
  {
   "cell_type": "markdown",
   "id": "agricultural-estimate",
   "metadata": {},
   "source": [
    "## Orders_8"
   ]
  },
  {
   "cell_type": "code",
   "execution_count": 8,
   "id": "atmospheric-activation",
   "metadata": {},
   "outputs": [
    {
     "name": "stdout",
     "output_type": "stream",
     "text": [
      "OrderNum - ID заказа\n",
      "Start - Вершина старта\n",
      "Finish - Вершина финиша\n",
      "StartDate - Дата старта относительно дня запуска расчета, сутки\n",
      "Dur - Время выполнения заказа (движения по арке+погрузка и разгрузка, сутки)\n",
      "MinUnit - Минимальный обьем заказа, вагоны\n",
      "MaxUnit - Максимальный обьем заказа, вагоны\n",
      "Tariff - Тариф в зависимотси от отклонения от даты старта ( за вагон), рубли\n",
      "NeedWagonModel - Запрошенная категория вагона\n",
      "ShortagePenalty - Категория приоритетности заказа (убывание от 1 до 4)\n"
     ]
    }
   ],
   "source": [
    "orders8 = read_table(\"Orders_08\")"
   ]
  },
  {
   "cell_type": "code",
   "execution_count": 9,
   "id": "stone-netscape",
   "metadata": {},
   "outputs": [
    {
     "data": {
      "text/plain": [
       "(648,)"
      ]
     },
     "execution_count": 9,
     "metadata": {},
     "output_type": "execute_result"
    }
   ],
   "source": [
    "start_nodes = orders8.Start\n",
    "end_nodes = orders8.Finish\n",
    "nodes = np.concatenate([\n",
    "    np.unique(start_nodes),\n",
    "    np.unique(end_nodes)\n",
    "])\n",
    "nodes = np.unique(nodes)\n",
    "nodes.shape"
   ]
  },
  {
   "cell_type": "markdown",
   "id": "particular-profession",
   "metadata": {},
   "source": [
    "## WagonModelCompatibility\n",
    "\n",
    "Вопросы:\n",
    "- [ ] совместимы ли разные типы вагонов в одну сторону, или связь двусторонняя? То есть если A -> B (A - запрошенный тип, B - совместимый тип), C->B, можно ли сказать, что A->C, а C -> A?"
   ]
  },
  {
   "cell_type": "code",
   "execution_count": 10,
   "id": "sound-thunder",
   "metadata": {},
   "outputs": [
    {
     "name": "stdout",
     "output_type": "stream",
     "text": [
      "NeedWagonModel - Запрошенный тип вагона\n",
      "CompatibleWagonModel - Совместимый тип вагона\n"
     ]
    }
   ],
   "source": [
    "wagon_mode_compat = read_table(\"WagonModelCompatibility\")"
   ]
  },
  {
   "cell_type": "code",
   "execution_count": 11,
   "id": "willing-canadian",
   "metadata": {},
   "outputs": [
    {
     "data": {
      "text/plain": [
       "((492,), (63,), (493,))"
      ]
     },
     "execution_count": 11,
     "metadata": {},
     "output_type": "execute_result"
    }
   ],
   "source": [
    "w1 = np.unique(wagon_mode_compat.iloc[:, 0])\n",
    "w2 = np.unique(wagon_mode_compat.iloc[:, 1])\n",
    "w3 = np.unique(np.concatenate([w1, w2]))\n",
    "w1.shape, w2.shape, w3.shape"
   ]
  },
  {
   "cell_type": "markdown",
   "id": "armed-coordinator",
   "metadata": {},
   "source": [
    "## sources"
   ]
  },
  {
   "cell_type": "code",
   "execution_count": 12,
   "id": "present-anger",
   "metadata": {},
   "outputs": [
    {
     "name": "stdout",
     "output_type": "stream",
     "text": [
      "Station - Станция дислокации (стоянки или освобождения после заказа)\n",
      "Date - День, начиная с которого вагоны доступны (отсчет с дня запуска расчета)\n",
      "Units - Количество вагонов, в  день дислокации\n",
      "Stand - Формула расчета простоя (руб за сутки простоя на станции дислокации 1 вагона)\n",
      "WagonModel - Модель вагонов\n"
     ]
    }
   ],
   "source": [
    "sources = read_table(\"sources\")"
   ]
  },
  {
   "cell_type": "markdown",
   "id": "regular-concord",
   "metadata": {},
   "source": [
    "## standplaces"
   ]
  },
  {
   "cell_type": "code",
   "execution_count": 13,
   "id": "continuous-antarctica",
   "metadata": {},
   "outputs": [
    {
     "name": "stdout",
     "output_type": "stream",
     "text": [
      "Station - Код станции отстоя\n",
      "PricePut - Стоимость отстоя, руб за факт входа без расчета суток\n",
      "PriceStand - Цена простоя в сутки\n"
     ]
    }
   ],
   "source": [
    "standplaces = read_table(\"standplaces\")"
   ]
  },
  {
   "cell_type": "markdown",
   "id": "widespread-queensland",
   "metadata": {},
   "source": [
    "## Metrics"
   ]
  },
  {
   "cell_type": "code",
   "execution_count": 14,
   "id": "changed-expansion",
   "metadata": {},
   "outputs": [
    {
     "name": "stdout",
     "output_type": "stream",
     "text": [
      "From - Узел старта\n",
      "To - Узел финиша\n",
      "Group - Группа пробега\n",
      "Distance - Расстояние пробега, км\n",
      "Time - Время пробега, сутки\n",
      "PriceUnit - Стоимость пробега, руб\n"
     ]
    }
   ],
   "source": [
    "metrics = read_table(\"Metrics\")"
   ]
  },
  {
   "cell_type": "code",
   "execution_count": null,
   "id": "opponent-mileage",
   "metadata": {},
   "outputs": [],
   "source": []
  },
  {
   "cell_type": "code",
   "execution_count": 17,
   "id": "fossil-magnitude",
   "metadata": {},
   "outputs": [
    {
     "data": {
      "text/html": [
       "<div>\n",
       "<style scoped>\n",
       "    .dataframe tbody tr th:only-of-type {\n",
       "        vertical-align: middle;\n",
       "    }\n",
       "\n",
       "    .dataframe tbody tr th {\n",
       "        vertical-align: top;\n",
       "    }\n",
       "\n",
       "    .dataframe thead th {\n",
       "        text-align: right;\n",
       "    }\n",
       "</style>\n",
       "<table border=\"1\" class=\"dataframe\">\n",
       "  <thead>\n",
       "    <tr style=\"text-align: right;\">\n",
       "      <th></th>\n",
       "      <th>From</th>\n",
       "      <th>To</th>\n",
       "      <th>Group</th>\n",
       "      <th>Distance</th>\n",
       "      <th>Time</th>\n",
       "      <th>PriceUnit</th>\n",
       "    </tr>\n",
       "  </thead>\n",
       "  <tbody>\n",
       "    <tr>\n",
       "      <th>1</th>\n",
       "      <td>10002</td>\n",
       "      <td>10303</td>\n",
       "      <td>100</td>\n",
       "      <td>9</td>\n",
       "      <td>5</td>\n",
       "      <td>104</td>\n",
       "    </tr>\n",
       "    <tr>\n",
       "      <th>2</th>\n",
       "      <td>10002</td>\n",
       "      <td>10303</td>\n",
       "      <td>200</td>\n",
       "      <td>9</td>\n",
       "      <td>5</td>\n",
       "      <td>138</td>\n",
       "    </tr>\n",
       "    <tr>\n",
       "      <th>3</th>\n",
       "      <td>10002</td>\n",
       "      <td>10303</td>\n",
       "      <td>305</td>\n",
       "      <td>9</td>\n",
       "      <td>5</td>\n",
       "      <td>355</td>\n",
       "    </tr>\n",
       "    <tr>\n",
       "      <th>4</th>\n",
       "      <td>10002</td>\n",
       "      <td>10905</td>\n",
       "      <td>100</td>\n",
       "      <td>60</td>\n",
       "      <td>5</td>\n",
       "      <td>685</td>\n",
       "    </tr>\n",
       "    <tr>\n",
       "      <th>5</th>\n",
       "      <td>10002</td>\n",
       "      <td>10905</td>\n",
       "      <td>200</td>\n",
       "      <td>60</td>\n",
       "      <td>5</td>\n",
       "      <td>914</td>\n",
       "    </tr>\n",
       "  </tbody>\n",
       "</table>\n",
       "</div>"
      ],
      "text/plain": [
       "    From     To Group Distance Time PriceUnit\n",
       "1  10002  10303   100        9    5       104\n",
       "2  10002  10303   200        9    5       138\n",
       "3  10002  10303   305        9    5       355\n",
       "4  10002  10905   100       60    5       685\n",
       "5  10002  10905   200       60    5       914"
      ]
     },
     "execution_count": 17,
     "metadata": {},
     "output_type": "execute_result"
    }
   ],
   "source": [
    "metrics.head()"
   ]
  },
  {
   "cell_type": "code",
   "execution_count": null,
   "id": "local-runner",
   "metadata": {},
   "outputs": [],
   "source": []
  }
 ],
 "metadata": {
  "kernelspec": {
   "display_name": "Python 3",
   "language": "python",
   "name": "python3"
  },
  "language_info": {
   "codemirror_mode": {
    "name": "ipython",
    "version": 3
   },
   "file_extension": ".py",
   "mimetype": "text/x-python",
   "name": "python",
   "nbconvert_exporter": "python",
   "pygments_lexer": "ipython3",
   "version": "3.7.9"
  }
 },
 "nbformat": 4,
 "nbformat_minor": 5
}

{
 "cells": [
  {
   "cell_type": "code",
   "execution_count": 15,
   "metadata": {
    "cell_id": "00000-9e4caaaf-99d7-4927-b773-3b5ffa14b9e4",
    "deepnote_cell_type": "code",
    "deepnote_to_be_reexecuted": false,
    "execution_millis": 235,
    "execution_start": 1613924636762,
    "source_hash": "1d6601c7",
    "tags": []
   },
   "outputs": [],
   "source": [
    "# Start writing code here...\n",
    "import os\n",
    "import sys\n",
    "import pandas as pd\n",
    "import numpy as np\n",
    "import matplotlib.pyplot as plt\n",
    "%matplotlib inline\n",
    "import igraph"
   ]
  },
  {
   "cell_type": "markdown",
   "metadata": {
    "cell_id": "00001-ee0c241e-8254-47c8-928b-939bc68c82e7",
    "deepnote_cell_type": "markdown",
    "tags": []
   },
   "source": [
    "This notebook contains template with example of data usage and loading (from prepared csv files, which were produced from original .xlsx file with the help of pandas)"
   ]
  },
  {
   "cell_type": "code",
   "execution_count": 16,
   "metadata": {
    "cell_id": "00002-5abc8c25-24b9-4461-8295-5c5dc4942c94",
    "deepnote_cell_type": "code",
    "deepnote_to_be_reexecuted": false,
    "execution_millis": 4,
    "execution_start": 1613924637001,
    "source_hash": "64b13c8f",
    "tags": []
   },
   "outputs": [],
   "source": [
    "if not \"..\" in sys.path:\n",
    "    sys.path.insert(0, \"..\")"
   ]
  },
  {
   "cell_type": "code",
   "execution_count": 17,
   "metadata": {
    "cell_id": "00003-df3ea055-0aad-46bb-98df-cd11073db969",
    "deepnote_cell_type": "code",
    "deepnote_to_be_reexecuted": false,
    "execution_millis": 19,
    "execution_start": 1613924637005,
    "source_hash": "2f19d1f9",
    "tags": []
   },
   "outputs": [
    {
     "name": "stdout",
     "output_type": "stream",
     "text": [
      "The autoreload extension is already loaded. To reload it, use:\n",
      "  %reload_ext autoreload\n"
     ]
    }
   ],
   "source": [
    "%load_ext autoreload\n",
    "%autoreload 2"
   ]
  },
  {
   "cell_type": "code",
   "execution_count": 18,
   "metadata": {
    "cell_id": "00004-a0475e6b-011d-4a25-b0b7-62d413a1b100",
    "deepnote_cell_type": "code",
    "deepnote_to_be_reexecuted": false,
    "execution_millis": 3,
    "execution_start": 1613924637070,
    "source_hash": "f59a5ad7",
    "tags": []
   },
   "outputs": [
    {
     "data": {
      "text/plain": [
       "['.DS_Store',\n",
       " 'description.txt',\n",
       " 'input_wagon.xlsx',\n",
       " 'metrics.csv.gz',\n",
       " 'orders7.csv.gz',\n",
       " 'orders8.csv.gz',\n",
       " 'output_wagon.xlsx',\n",
       " 'sources.csv.gz',\n",
       " 'standplaces.csv.gz',\n",
       " 'wagon.zip',\n",
       " 'wagon_mode_compat.csv.gz']"
      ]
     },
     "execution_count": 18,
     "metadata": {},
     "output_type": "execute_result"
    }
   ],
   "source": [
    "os.listdir(\"../data\")"
   ]
  },
  {
   "cell_type": "code",
   "execution_count": 124,
   "metadata": {
    "cell_id": "00005-8c8b3759-e3d5-4d05-abc6-2b191befe1db",
    "deepnote_cell_type": "code",
    "deepnote_to_be_reexecuted": false,
    "execution_millis": 576,
    "execution_start": 1613924637071,
    "source_hash": "baa24a12",
    "tags": []
   },
   "outputs": [],
   "source": [
    "orders7 = pd.read_csv(\"../data/orders7.csv.gz\")\n",
    "orders8 = pd.read_csv(\"../data/orders8.csv.gz\")\n",
    "wagon_mode_compat = pd.read_csv(\"../data/wagon_mode_compat.csv.gz\") # +\n",
    "sources = pd.read_csv(\"../data/sources.csv.gz\") # +\n",
    "standplaces = pd.read_csv(\"../data/standplaces.csv.gz\")\n",
    "metrics = pd.read_csv(\"../data/metrics.csv.gz\") #+"
   ]
  },
  {
   "cell_type": "code",
   "execution_count": 179,
   "metadata": {
    "cell_id": "00006-fd49118c-4dcc-4023-ad90-ba1397c61032",
    "deepnote_cell_type": "code",
    "deepnote_to_be_reexecuted": false,
    "execution_millis": 266,
    "execution_start": 1613931304406,
    "source_hash": "521793d0",
    "tags": []
   },
   "outputs": [],
   "source": [
    "# load data from file (this gets checked and reloaded because of autoreload magic above)\n",
    "from utils.abstractions import *"
   ]
  },
  {
   "cell_type": "code",
   "execution_count": 180,
   "metadata": {
    "cell_id": "00007-7d507116-ca16-4a4b-8ca2-d22eef663c8e",
    "deepnote_cell_type": "code",
    "deepnote_to_be_reexecuted": false,
    "execution_millis": 6373,
    "execution_start": 1613931321126,
    "source_hash": "19155501",
    "tags": []
   },
   "outputs": [],
   "source": [
    "roads_graph, name2vertex = get_roads_graph(metrics, debug=False)"
   ]
  },
  {
   "cell_type": "code",
   "execution_count": 181,
   "metadata": {
    "cell_id": "00008-2dbbeddd-777b-4c7e-b3eb-91a660fc6afd",
    "deepnote_cell_type": "code",
    "deepnote_to_be_reexecuted": false,
    "execution_millis": 17,
    "execution_start": 1613931329578,
    "source_hash": "a7bab2a4",
    "tags": []
   },
   "outputs": [
    {
     "data": {
      "text/plain": [
       "([(100, 104), (200, 138), (305, 355)], 9, 5)"
      ]
     },
     "execution_count": 181,
     "metadata": {},
     "output_type": "execute_result"
    }
   ],
   "source": [
    "roads_graph.es[0]['info'], roads_graph.es[0]['distance'], roads_graph.es[0]['time']"
   ]
  },
  {
   "cell_type": "code",
   "execution_count": 182,
   "metadata": {
    "cell_id": "00009-6c762db0-1c19-469b-a3fb-641ecfaf7c18",
    "deepnote_cell_type": "code",
    "deepnote_to_be_reexecuted": false,
    "execution_millis": 1,
    "execution_start": 1613931357970,
    "source_hash": "6c5dee4c",
    "tags": []
   },
   "outputs": [],
   "source": [
    "roads_graph.es['weight'] = roads_graph.es['distance']"
   ]
  },
  {
   "cell_type": "code",
   "execution_count": 183,
   "metadata": {
    "cell_id": "00009-00242f4c-4a1e-4ae5-8a98-8f91291fb218",
    "deepnote_cell_type": "code",
    "deepnote_to_be_reexecuted": false,
    "execution_millis": 10451,
    "execution_start": 1613931537954,
    "source_hash": "39c37b2b",
    "tags": []
   },
   "outputs": [],
   "source": [
    "# dijkstra_paths = roads_graph.shortest_paths_dijkstra(weights=\"weight\")"
   ]
  },
  {
   "cell_type": "code",
   "execution_count": 184,
   "metadata": {
    "cell_id": "00011-c2318ec9-2d21-46b8-a992-115358013217",
    "deepnote_cell_type": "code",
    "deepnote_to_be_reexecuted": false,
    "execution_millis": 553,
    "execution_start": 1613931636138,
    "source_hash": "670ad9b1",
    "tags": []
   },
   "outputs": [],
   "source": [
    "# np.min(dijkstra_paths), np.max(dijkstra_paths), np.mean(dijkstra_paths), np.median(dijkstra_paths)"
   ]
  },
  {
   "cell_type": "code",
   "execution_count": 188,
   "metadata": {
    "cell_id": "00013-d6e68a72-8c81-43ad-89bf-6590125deab4",
    "deepnote_cell_type": "code",
    "deepnote_to_be_reexecuted": false,
    "execution_millis": 187,
    "execution_start": 1613931610090,
    "source_hash": "8e4632dd",
    "tags": []
   },
   "outputs": [],
   "source": [
    "gr = init_stations(sources, name2vertex)\n"
   ]
  },
  {
   "cell_type": "code",
   "execution_count": 187,
   "metadata": {
    "cell_id": "00012-a881bcec-fceb-4995-9742-3ca7e7ff3ed8",
    "deepnote_cell_type": "code",
    "deepnote_to_be_reexecuted": false,
    "execution_millis": 189,
    "execution_start": 1613931602379,
    "source_hash": "c0c161ec",
    "tags": []
   },
   "outputs": [
    {
     "data": {
      "text/plain": [
       "{2070: [(1, 50), (1, 50)],\n",
       " 2071: [(1, 50)],\n",
       " 2135: [(1, 50)],\n",
       " 2062: [(1, 50)],\n",
       " 2155: [(1, 50)]}"
      ]
     },
     "execution_count": 187,
     "metadata": {},
     "output_type": "execute_result"
    }
   ],
   "source": [
    "gr[0].vs[0]['info']"
   ]
  },
  {
   "cell_type": "code",
   "execution_count": 137,
   "metadata": {},
   "outputs": [],
   "source": [
    "gr, wagons = get_wagon_graph(wagon_mode_compat)"
   ]
  },
  {
   "cell_type": "code",
   "execution_count": 145,
   "metadata": {},
   "outputs": [],
   "source": [
    "def create_order_graph(orders, name2vertex):\n",
    "    columns = [\n",
    "        \"OrderNum\",\n",
    "        \"Start\",\n",
    "        \"Finish\",\n",
    "        #\"StartDate\",\n",
    "        \"Dur\",\n",
    "        \"MinUnit\",\n",
    "        \"MaxUnit\",\n",
    "        \"Tariff\",\n",
    "        \"NeedWagonModel\",\n",
    "        \"ShortagePenalty\"\n",
    "    ]\n",
    "    vertices = np.unique(np.concatenate([\n",
    "        orders.Start.values,\n",
    "        orders.Finish.values\n",
    "    ]))\n",
    "    for v in vertices:\n",
    "        v = str(v)\n",
    "        if v not in name2vertex:\n",
    "            index = len(name2vertex)\n",
    "            name2vertex[v] = index\n",
    "    graph = Graph()\n",
    "    graph.add_vertices(len(name2vertex))\n",
    "    edges = []\n",
    "    for start, finish in orders[[\"Start\", \"Finish\"]].values:\n",
    "        start = str(start)\n",
    "        finish = str(finish)\n",
    "        u = name2vertex[start]\n",
    "        v = name2vertex[finish]\n",
    "        edges.append((u, v))\n",
    "    # print(edges)\n",
    "    graph.add_edges(edges)\n",
    "    graph['order_num'] = orders[\"OrderNum\"].values\n",
    "    graph['dur'] = orders[\"Dur\"].values\n",
    "    graph['min_unit'] = orders[\"MinUnit\"].values\n",
    "    graph['max_unit'] = orders[\"MaxUnit\"].values\n",
    "    graph['tariff'] = orders[\"Tariff\"].apply(lambda xs: [int(x) for x in xs.split(\":\")]).values\n",
    "    graph[\"wagon_model\"] = orders[\"NeedWagonModel\"].values\n",
    "    graph[\"penalty\"] = orders[\"ShortagePenalty\"].values\n",
    "    return graph\n",
    "    \n",
    "def build_orders(orders, name2vertex):\n",
    "    columns = [\n",
    "        \"OrderNum\",\n",
    "        \"Start\",\n",
    "        \"Finish\",\n",
    "        \"StartDate\",\n",
    "        \"Dur\",\n",
    "        \"MinUnit\",\n",
    "        \"MaxUnit\",\n",
    "        \"Tariff\",\n",
    "        \"NeedWagonModel\",\n",
    "        \"ShortagePenalty\"\n",
    "    ]\n",
    "    graphs = dict()\n",
    "    for start_date, rows in orders7[columns].groupby(\"StartDate\"):\n",
    "        graph = create_order_graph(rows, name2vertex)\n",
    "        graphs[start_date] = graph\n",
    "    # return start_date, rows\n",
    "    return graphs"
   ]
  },
  {
   "cell_type": "code",
   "execution_count": 146,
   "metadata": {},
   "outputs": [],
   "source": [
    "graphs = build_orders(orders7, name2vertex)"
   ]
  },
  {
   "cell_type": "code",
   "execution_count": 148,
   "metadata": {},
   "outputs": [
    {
     "data": {
      "text/plain": [
       "<igraph.Graph at 0x134f09950>"
      ]
     },
     "execution_count": 148,
     "metadata": {},
     "output_type": "execute_result"
    }
   ],
   "source": [
    "graphs[0]"
   ]
  },
  {
   "cell_type": "markdown",
   "metadata": {
    "created_in_deepnote_cell": true,
    "deepnote_cell_type": "markdown",
    "tags": []
   },
   "source": [
    "<a style='text-decoration:none;line-height:16px;display:flex;color:#5B5B62;padding:10px;justify-content:end;' href='https://deepnote.com?utm_source=created-in-deepnote-cell&projectId=7ba67d69-ce72-437b-8bf4-6d3c9b906c4a' target=\"_blank\">\n",
    "<img style='display:inline;max-height:16px;margin:0px;margin-right:7.5px;' src='data:image/svg+xml;base64,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' > </img>\n",
    "Created in <span style='font-weight:600;margin-left:4px;'>Deepnote</span></a>"
   ]
  }
 ],
 "metadata": {
  "deepnote": {},
  "deepnote_execution_queue": [],
  "deepnote_notebook_id": "92583036-61c3-49fd-ac62-fab5824ef7f5",
  "kernelspec": {
   "display_name": "Python 3",
   "language": "python",
   "name": "python3"
  },
  "language_info": {
   "codemirror_mode": {
    "name": "ipython",
    "version": 3
   },
   "file_extension": ".py",
   "mimetype": "text/x-python",
   "name": "python",
   "nbconvert_exporter": "python",
   "pygments_lexer": "ipython3",
   "version": "3.7.9"
  }
 },
 "nbformat": 4,
 "nbformat_minor": 2
}

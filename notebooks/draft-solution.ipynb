{
 "cells": [
  {
   "cell_type": "code",
   "execution_count": 1,
   "metadata": {
    "cell_id": "00000-9e4caaaf-99d7-4927-b773-3b5ffa14b9e4",
    "deepnote_cell_type": "code",
    "deepnote_to_be_reexecuted": false,
    "execution_millis": 235,
    "execution_start": 1613924636762,
    "source_hash": "1d6601c7",
    "tags": []
   },
   "outputs": [
    {
     "name": "stderr",
     "output_type": "stream",
     "text": [
      "In /Users/lacemaker/anaconda3/envs/data_env/lib/python3.7/site-packages/matplotlib/mpl-data/stylelib/_classic_test.mplstyle: \n",
      "The text.latex.preview rcparam was deprecated in Matplotlib 3.3 and will be removed two minor releases later.\n",
      "In /Users/lacemaker/anaconda3/envs/data_env/lib/python3.7/site-packages/matplotlib/mpl-data/stylelib/_classic_test.mplstyle: \n",
      "The mathtext.fallback_to_cm rcparam was deprecated in Matplotlib 3.3 and will be removed two minor releases later.\n",
      "In /Users/lacemaker/anaconda3/envs/data_env/lib/python3.7/site-packages/matplotlib/mpl-data/stylelib/_classic_test.mplstyle: Support for setting the 'mathtext.fallback_to_cm' rcParam is deprecated since 3.3 and will be removed two minor releases later; use 'mathtext.fallback : 'cm' instead.\n",
      "In /Users/lacemaker/anaconda3/envs/data_env/lib/python3.7/site-packages/matplotlib/mpl-data/stylelib/_classic_test.mplstyle: \n",
      "The validate_bool_maybe_none function was deprecated in Matplotlib 3.3 and will be removed two minor releases later.\n",
      "In /Users/lacemaker/anaconda3/envs/data_env/lib/python3.7/site-packages/matplotlib/mpl-data/stylelib/_classic_test.mplstyle: \n",
      "The savefig.jpeg_quality rcparam was deprecated in Matplotlib 3.3 and will be removed two minor releases later.\n",
      "In /Users/lacemaker/anaconda3/envs/data_env/lib/python3.7/site-packages/matplotlib/mpl-data/stylelib/_classic_test.mplstyle: \n",
      "The keymap.all_axes rcparam was deprecated in Matplotlib 3.3 and will be removed two minor releases later.\n",
      "In /Users/lacemaker/anaconda3/envs/data_env/lib/python3.7/site-packages/matplotlib/mpl-data/stylelib/_classic_test.mplstyle: \n",
      "The animation.avconv_path rcparam was deprecated in Matplotlib 3.3 and will be removed two minor releases later.\n",
      "In /Users/lacemaker/anaconda3/envs/data_env/lib/python3.7/site-packages/matplotlib/mpl-data/stylelib/_classic_test.mplstyle: \n",
      "The animation.avconv_args rcparam was deprecated in Matplotlib 3.3 and will be removed two minor releases later.\n"
     ]
    }
   ],
   "source": [
    "# Start writing code here...\n",
    "import os\n",
    "import sys\n",
    "import pandas as pd\n",
    "import numpy as np\n",
    "import matplotlib.pyplot as plt\n",
    "%matplotlib inline\n",
    "import igraph"
   ]
  },
  {
   "cell_type": "markdown",
   "metadata": {
    "cell_id": "00001-ee0c241e-8254-47c8-928b-939bc68c82e7",
    "deepnote_cell_type": "markdown",
    "tags": []
   },
   "source": [
    "This notebook contains template with example of data usage and loading (from prepared csv files, which were produced from original .xlsx file with the help of pandas)"
   ]
  },
  {
   "cell_type": "code",
   "execution_count": 2,
   "metadata": {
    "cell_id": "00002-5abc8c25-24b9-4461-8295-5c5dc4942c94",
    "deepnote_cell_type": "code",
    "deepnote_to_be_reexecuted": false,
    "execution_millis": 4,
    "execution_start": 1613924637001,
    "source_hash": "64b13c8f",
    "tags": []
   },
   "outputs": [],
   "source": [
    "if not \"..\" in sys.path:\n",
    "    sys.path.insert(0, \"..\")"
   ]
  },
  {
   "cell_type": "code",
   "execution_count": 3,
   "metadata": {
    "cell_id": "00003-df3ea055-0aad-46bb-98df-cd11073db969",
    "deepnote_cell_type": "code",
    "deepnote_to_be_reexecuted": false,
    "execution_millis": 19,
    "execution_start": 1613924637005,
    "source_hash": "2f19d1f9",
    "tags": []
   },
   "outputs": [],
   "source": [
    "%load_ext autoreload\n",
    "%autoreload 2"
   ]
  },
  {
   "cell_type": "code",
   "execution_count": 4,
   "metadata": {
    "cell_id": "00004-a0475e6b-011d-4a25-b0b7-62d413a1b100",
    "deepnote_cell_type": "code",
    "deepnote_to_be_reexecuted": false,
    "execution_millis": 3,
    "execution_start": 1613924637070,
    "source_hash": "f59a5ad7",
    "tags": []
   },
   "outputs": [
    {
     "data": {
      "text/plain": [
       "['.DS_Store',\n",
       " 'description.txt',\n",
       " 'input_wagon.xlsx',\n",
       " 'metrics.csv.gz',\n",
       " 'orders7.csv.gz',\n",
       " 'orders8.csv.gz',\n",
       " 'output_wagon.xlsx',\n",
       " 'sources.csv.gz',\n",
       " 'standplaces.csv.gz',\n",
       " 'wagon.zip',\n",
       " 'wagon_mode_compat.csv.gz']"
      ]
     },
     "execution_count": 4,
     "metadata": {},
     "output_type": "execute_result"
    }
   ],
   "source": [
    "os.listdir(\"../data\")"
   ]
  },
  {
   "cell_type": "code",
   "execution_count": 5,
   "metadata": {
    "cell_id": "00005-8c8b3759-e3d5-4d05-abc6-2b191befe1db",
    "deepnote_cell_type": "code",
    "deepnote_to_be_reexecuted": false,
    "execution_millis": 576,
    "execution_start": 1613924637071,
    "source_hash": "baa24a12",
    "tags": []
   },
   "outputs": [],
   "source": [
    "orders7 = pd.read_csv(\"../data/orders7.csv.gz\")\n",
    "orders8 = pd.read_csv(\"../data/orders8.csv.gz\")\n",
    "wagon_mode_compat = pd.read_csv(\"../data/wagon_mode_compat.csv.gz\") # +\n",
    "sources = pd.read_csv(\"../data/sources.csv.gz\") # +\n",
    "standplaces = pd.read_csv(\"../data/standplaces.csv.gz\")\n",
    "metrics = pd.read_csv(\"../data/metrics.csv.gz\") #+"
   ]
  },
  {
   "cell_type": "code",
   "execution_count": 196,
   "metadata": {
    "cell_id": "00006-fd49118c-4dcc-4023-ad90-ba1397c61032",
    "deepnote_cell_type": "code",
    "deepnote_to_be_reexecuted": false,
    "execution_millis": 266,
    "execution_start": 1613931304406,
    "source_hash": "521793d0",
    "tags": []
   },
   "outputs": [],
   "source": [
    "# load data from file (this gets checked and reloaded because of autoreload magic above)\n",
    "from utils.abstractions import *"
   ]
  },
  {
   "cell_type": "code",
   "execution_count": 197,
   "metadata": {
    "cell_id": "00007-7d507116-ca16-4a4b-8ca2-d22eef663c8e",
    "deepnote_cell_type": "code",
    "deepnote_to_be_reexecuted": false,
    "execution_millis": 6373,
    "execution_start": 1613931321126,
    "source_hash": "19155501",
    "tags": []
   },
   "outputs": [],
   "source": [
    "roads_graph, name2vertex = get_roads_graph(metrics, debug=False)"
   ]
  },
  {
   "cell_type": "code",
   "execution_count": 198,
   "metadata": {
    "cell_id": "00008-2dbbeddd-777b-4c7e-b3eb-91a660fc6afd",
    "deepnote_cell_type": "code",
    "deepnote_to_be_reexecuted": false,
    "execution_millis": 17,
    "execution_start": 1613931329578,
    "source_hash": "a7bab2a4",
    "tags": []
   },
   "outputs": [
    {
     "data": {
      "text/plain": [
       "([(100, 104), (200, 138), (305, 355)], 9, 5)"
      ]
     },
     "execution_count": 198,
     "metadata": {},
     "output_type": "execute_result"
    }
   ],
   "source": [
    "roads_graph.es[0]['info'], roads_graph.es[0]['distance'], roads_graph.es[0]['time']"
   ]
  },
  {
   "cell_type": "code",
   "execution_count": 199,
   "metadata": {
    "cell_id": "00009-6c762db0-1c19-469b-a3fb-641ecfaf7c18",
    "deepnote_cell_type": "code",
    "deepnote_to_be_reexecuted": false,
    "execution_millis": 1,
    "execution_start": 1613931357970,
    "source_hash": "6c5dee4c",
    "tags": []
   },
   "outputs": [],
   "source": [
    "roads_graph.es['weight'] = roads_graph.es['distance']"
   ]
  },
  {
   "cell_type": "code",
   "execution_count": 200,
   "metadata": {
    "cell_id": "00009-00242f4c-4a1e-4ae5-8a98-8f91291fb218",
    "deepnote_cell_type": "code",
    "deepnote_to_be_reexecuted": false,
    "execution_millis": 10451,
    "execution_start": 1613931537954,
    "source_hash": "39c37b2b",
    "tags": []
   },
   "outputs": [],
   "source": [
    "# dijkstra_paths = roads_graph.shortest_paths_dijkstra(weights=\"weight\")"
   ]
  },
  {
   "cell_type": "code",
   "execution_count": 201,
   "metadata": {
    "cell_id": "00011-c2318ec9-2d21-46b8-a992-115358013217",
    "deepnote_cell_type": "code",
    "deepnote_to_be_reexecuted": false,
    "execution_millis": 553,
    "execution_start": 1613931636138,
    "source_hash": "670ad9b1",
    "tags": []
   },
   "outputs": [
    {
     "data": {
      "text/html": [
       "<div>\n",
       "<style scoped>\n",
       "    .dataframe tbody tr th:only-of-type {\n",
       "        vertical-align: middle;\n",
       "    }\n",
       "\n",
       "    .dataframe tbody tr th {\n",
       "        vertical-align: top;\n",
       "    }\n",
       "\n",
       "    .dataframe thead th {\n",
       "        text-align: right;\n",
       "    }\n",
       "</style>\n",
       "<table border=\"1\" class=\"dataframe\">\n",
       "  <thead>\n",
       "    <tr style=\"text-align: right;\">\n",
       "      <th></th>\n",
       "      <th>Station</th>\n",
       "      <th>Date</th>\n",
       "      <th>Units</th>\n",
       "      <th>Stand</th>\n",
       "      <th>WagonModel</th>\n",
       "    </tr>\n",
       "  </thead>\n",
       "  <tbody>\n",
       "  </tbody>\n",
       "</table>\n",
       "</div>"
      ],
      "text/plain": [
       "Empty DataFrame\n",
       "Columns: [Station, Date, Units, Stand, WagonModel]\n",
       "Index: []"
      ]
     },
     "execution_count": 201,
     "metadata": {},
     "output_type": "execute_result"
    }
   ],
   "source": [
    "# np.min(dijkstra_paths), np.max(dijkstra_paths), np.mean(dijkstra_paths), np.median(dijkstra_paths)\n",
    "sources[sources.Station==190205]"
   ]
  },
  {
   "cell_type": "code",
   "execution_count": 202,
   "metadata": {
    "cell_id": "00013-d6e68a72-8c81-43ad-89bf-6590125deab4",
    "deepnote_cell_type": "code",
    "deepnote_to_be_reexecuted": false,
    "execution_millis": 187,
    "execution_start": 1613931610090,
    "source_hash": "8e4632dd",
    "tags": []
   },
   "outputs": [],
   "source": [
    "gr = init_stations(sources, name2vertex)\n"
   ]
  },
  {
   "cell_type": "code",
   "execution_count": 203,
   "metadata": {
    "cell_id": "00012-a881bcec-fceb-4995-9742-3ca7e7ff3ed8",
    "deepnote_cell_type": "code",
    "deepnote_to_be_reexecuted": false,
    "execution_millis": 189,
    "execution_start": 1613931602379,
    "source_hash": "c0c161ec",
    "tags": []
   },
   "outputs": [
    {
     "data": {
      "text/plain": [
       "{'2070': [(1, 50), (1, 50)],\n",
       " '2071': [(1, 50)],\n",
       " '2135': [(1, 50)],\n",
       " '2062': [(1, 50)],\n",
       " '2155': [(1, 50)]}"
      ]
     },
     "execution_count": 203,
     "metadata": {},
     "output_type": "execute_result"
    }
   ],
   "source": [
    "190205\n",
    "gr[0].vs[0]['info']"
   ]
  },
  {
   "cell_type": "code",
   "execution_count": 204,
   "metadata": {},
   "outputs": [],
   "source": [
    "gr, wagons = get_wagon_graph(wagon_mode_compat)"
   ]
  },
  {
   "cell_type": "code",
   "execution_count": 205,
   "metadata": {},
   "outputs": [],
   "source": [
    "def create_order_graph(orders, name2vertex):\n",
    "    columns = [\n",
    "        \"OrderNum\",\n",
    "        \"Start\",\n",
    "        \"Finish\",\n",
    "        #\"StartDate\",\n",
    "        \"Dur\",\n",
    "        \"MinUnit\",\n",
    "        \"MaxUnit\",\n",
    "        \"Tariff\",\n",
    "        \"NeedWagonModel\",\n",
    "        \"ShortagePenalty\"\n",
    "    ]\n",
    "    vertices = np.unique(np.concatenate([\n",
    "        orders.Start.values,\n",
    "        orders.Finish.values\n",
    "    ]))\n",
    "    for v in vertices:\n",
    "        v = str(v)\n",
    "        if v not in name2vertex:\n",
    "            index = len(name2vertex)\n",
    "            name2vertex[v] = index\n",
    "    graph = Graph()\n",
    "    graph.add_vertices(len(name2vertex))\n",
    "    edges = []\n",
    "    for start, finish in orders[[\"Start\", \"Finish\"]].values:\n",
    "        start = str(start)\n",
    "        finish = str(finish)\n",
    "        u = name2vertex[start]\n",
    "        v = name2vertex[finish]\n",
    "        edges.append((u, v))\n",
    "    # print(edges)\n",
    "    graph.add_edges(edges)\n",
    "    graph['order_num'] = orders[\"OrderNum\"].values\n",
    "    graph['dur'] = orders[\"Dur\"].values\n",
    "    graph['min_unit'] = orders[\"MinUnit\"].values\n",
    "    graph['max_unit'] = orders[\"MaxUnit\"].values\n",
    "    graph['tariff'] = orders[\"Tariff\"].apply(lambda xs: [int(x) for x in xs.split(\":\")]).values\n",
    "    graph[\"wagon_model\"] = orders[\"NeedWagonModel\"].values\n",
    "    graph[\"penalty\"] = orders[\"ShortagePenalty\"].values\n",
    "    return graph\n",
    "    \n",
    "def build_orders(orders, name2vertex):\n",
    "    columns = [\n",
    "        \"OrderNum\",\n",
    "        \"Start\",\n",
    "        \"Finish\",\n",
    "        \"StartDate\",\n",
    "        \"Dur\",\n",
    "        \"MinUnit\",\n",
    "        \"MaxUnit\",\n",
    "        \"Tariff\",\n",
    "        \"NeedWagonModel\",\n",
    "        \"ShortagePenalty\"\n",
    "    ]\n",
    "    graphs = dict()\n",
    "    for start_date, rows in orders7[columns].groupby(\"StartDate\"):\n",
    "        graph = create_order_graph(rows, name2vertex)\n",
    "        graphs[start_date] = graph\n",
    "    # return start_date, rows\n",
    "    return graphs"
   ]
  },
  {
   "cell_type": "code",
   "execution_count": 206,
   "metadata": {},
   "outputs": [],
   "source": [
    "graphs = build_orders(orders7, name2vertex)"
   ]
  },
  {
   "cell_type": "code",
   "execution_count": 207,
   "metadata": {},
   "outputs": [],
   "source": [
    "env = WorldModelEnv(\n",
    "    orders=orders7,\n",
    "    wagon_mode_compat=wagon_mode_compat,\n",
    "    sources=sources, metrics=metrics)"
   ]
  },
  {
   "cell_type": "code",
   "execution_count": 208,
   "metadata": {},
   "outputs": [
    {
     "data": {
      "text/plain": [
       "(igraph.Vertex(<igraph.Graph object at 0x11fdbc750>, 0, {'info': <utils.abstractions.Station object at 0x11cf4ffd0>}),\n",
       " igraph.Vertex(<igraph.Graph object at 0x11fdbc750>, 1, {'info': <utils.abstractions.Station object at 0x1b868fd10>}))"
      ]
     },
     "execution_count": 208,
     "metadata": {},
     "output_type": "execute_result"
    }
   ],
   "source": [
    "#gr = env.init_world_graph()\n",
    "env.world_state.vs[0], env.world_state.vs[1]"
   ]
  },
  {
   "cell_type": "code",
   "execution_count": 209,
   "metadata": {},
   "outputs": [],
   "source": [
    "#gr.es[0]['route'].arrivals[1] = (1,2,3)"
   ]
  },
  {
   "cell_type": "code",
   "execution_count": 210,
   "metadata": {},
   "outputs": [],
   "source": [
    "#gr.es[2]['route'].arrivals"
   ]
  },
  {
   "cell_type": "markdown",
   "metadata": {
    "created_in_deepnote_cell": true,
    "deepnote_cell_type": "markdown",
    "tags": []
   },
   "source": [
    "<a style='text-decoration:none;line-height:16px;display:flex;color:#5B5B62;padding:10px;justify-content:end;' href='https://deepnote.com?utm_source=created-in-deepnote-cell&projectId=7ba67d69-ce72-437b-8bf4-6d3c9b906c4a' target=\"_blank\">\n",
    "<img style='display:inline;max-height:16px;margin:0px;margin-right:7.5px;' src='data:image/svg+xml;base64,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' > </img>\n",
    "Created in <span style='font-weight:600;margin-left:4px;'>Deepnote</span></a>"
   ]
  },
  {
   "cell_type": "code",
   "execution_count": 211,
   "metadata": {},
   "outputs": [
    {
     "data": {
      "text/plain": [
       "4453"
      ]
     },
     "execution_count": 211,
     "metadata": {},
     "output_type": "execute_result"
    }
   ],
   "source": [
    "len(env.wagons)"
   ]
  },
  {
   "cell_type": "code",
   "execution_count": 212,
   "metadata": {},
   "outputs": [
    {
     "data": {
      "text/plain": [
       "<utils.abstractions.WorldModelEnv at 0x124f24150>"
      ]
     },
     "execution_count": 212,
     "metadata": {},
     "output_type": "execute_result"
    }
   ],
   "source": [
    "env"
   ]
  },
  {
   "cell_type": "code",
   "execution_count": 213,
   "metadata": {},
   "outputs": [
    {
     "data": {
      "text/plain": [
       "4453"
      ]
     },
     "execution_count": 213,
     "metadata": {},
     "output_type": "execute_result"
    }
   ],
   "source": [
    "#orders7[orders7['StartDate']==0]\n",
    "sources[sources.Date==0].Units.sum()"
   ]
  },
  {
   "cell_type": "code",
   "execution_count": 214,
   "metadata": {},
   "outputs": [
    {
     "data": {
      "text/html": [
       "<div>\n",
       "<style scoped>\n",
       "    .dataframe tbody tr th:only-of-type {\n",
       "        vertical-align: middle;\n",
       "    }\n",
       "\n",
       "    .dataframe tbody tr th {\n",
       "        vertical-align: top;\n",
       "    }\n",
       "\n",
       "    .dataframe thead th {\n",
       "        text-align: right;\n",
       "    }\n",
       "</style>\n",
       "<table border=\"1\" class=\"dataframe\">\n",
       "  <thead>\n",
       "    <tr style=\"text-align: right;\">\n",
       "      <th></th>\n",
       "      <th>Station</th>\n",
       "      <th>PricePut</th>\n",
       "      <th>PriceStand</th>\n",
       "    </tr>\n",
       "  </thead>\n",
       "  <tbody>\n",
       "    <tr>\n",
       "      <th>0</th>\n",
       "      <td>286408</td>\n",
       "      <td>200</td>\n",
       "      <td>197</td>\n",
       "    </tr>\n",
       "    <tr>\n",
       "      <th>1</th>\n",
       "      <td>284008</td>\n",
       "      <td>200</td>\n",
       "      <td>197</td>\n",
       "    </tr>\n",
       "    <tr>\n",
       "      <th>2</th>\n",
       "      <td>286408</td>\n",
       "      <td>200</td>\n",
       "      <td>197</td>\n",
       "    </tr>\n",
       "    <tr>\n",
       "      <th>3</th>\n",
       "      <td>284008</td>\n",
       "      <td>200</td>\n",
       "      <td>197</td>\n",
       "    </tr>\n",
       "    <tr>\n",
       "      <th>4</th>\n",
       "      <td>294809</td>\n",
       "      <td>200</td>\n",
       "      <td>197</td>\n",
       "    </tr>\n",
       "  </tbody>\n",
       "</table>\n",
       "</div>"
      ],
      "text/plain": [
       "   Station  PricePut  PriceStand\n",
       "0   286408       200         197\n",
       "1   284008       200         197\n",
       "2   286408       200         197\n",
       "3   284008       200         197\n",
       "4   294809       200         197"
      ]
     },
     "execution_count": 214,
     "metadata": {},
     "output_type": "execute_result"
    }
   ],
   "source": [
    "standplaces.head()"
   ]
  },
  {
   "cell_type": "code",
   "execution_count": 215,
   "metadata": {},
   "outputs": [
    {
     "data": {
      "text/plain": [
       "98"
      ]
     },
     "execution_count": 215,
     "metadata": {},
     "output_type": "execute_result"
    }
   ],
   "source": [
    "np.sum([i == 1 for i in env.world_state.outdegree()])"
   ]
  },
  {
   "cell_type": "code",
   "execution_count": 216,
   "metadata": {},
   "outputs": [
    {
     "data": {
      "text/plain": [
       "287614"
      ]
     },
     "execution_count": 216,
     "metadata": {},
     "output_type": "execute_result"
    }
   ],
   "source": [
    "len(env.world_state.es)"
   ]
  },
  {
   "cell_type": "code",
   "execution_count": 217,
   "metadata": {},
   "outputs": [],
   "source": [
    "#metrics.merge(metrics, how=\"inner\", left_on=\"To\", right_on=\"From\", suffixes=(\"start_\", \"end_\"))"
   ]
  },
  {
   "cell_type": "code",
   "execution_count": 218,
   "metadata": {},
   "outputs": [
    {
     "name": "stdout",
     "output_type": "stream",
     "text": [
      "939404\n",
      "Shapes: (563,) (1550,) (1550,)\n",
      "28\n",
      "905694\n",
      "Shapes: (535,) (1550,) (1550,)\n",
      "0\n"
     ]
    }
   ],
   "source": [
    "index = metrics.index\n",
    "print(len(index))\n",
    "ignored_nodes = []\n",
    "while True:\n",
    "    target = np.unique(metrics.loc[index, \"To\"])\n",
    "    source = np.unique(metrics.loc[index, \"From\"])\n",
    "    inedges = np.unique(metrics.loc[index, \"From\"])\n",
    "    print(\"Shapes:\", target.shape, source.shape, inedges.shape)\n",
    "    no_outputs = [t for t in target if np.sum(inedges == t) == 0]\n",
    "    print(len(no_outputs))\n",
    "    if len(no_outputs) == 0:\n",
    "        break\n",
    "    if len(ignored_nodes) == 0:\n",
    "        ignored_nodes = no_outputs\n",
    "    else:\n",
    "        ignored_nodes = np.unique(np.concatenate([ignored_nodes, no_outputs]))\n",
    "    index = metrics[~metrics.To.isin(ignored_nodes)].index\n",
    "    print(len(index))\n",
    "    # break"
   ]
  },
  {
   "cell_type": "code",
   "execution_count": 219,
   "metadata": {},
   "outputs": [
    {
     "data": {
      "text/plain": [
       "905694"
      ]
     },
     "execution_count": 219,
     "metadata": {},
     "output_type": "execute_result"
    }
   ],
   "source": [
    "#metrics.loc[index]no_outputs\n",
    "len(index)"
   ]
  },
  {
   "cell_type": "code",
   "execution_count": 220,
   "metadata": {},
   "outputs": [],
   "source": [
    "# standplaces[standplaces.Station.isin(ignored_nodes)]"
   ]
  },
  {
   "cell_type": "code",
   "execution_count": 221,
   "metadata": {},
   "outputs": [
    {
     "data": {
      "text/plain": [
       "4453"
      ]
     },
     "execution_count": 221,
     "metadata": {},
     "output_type": "execute_result"
    }
   ],
   "source": [
    "len(env.wagons)"
   ]
  },
  {
   "cell_type": "code",
   "execution_count": null,
   "metadata": {},
   "outputs": [],
   "source": [
    "\n"
   ]
  },
  {
   "cell_type": "code",
   "execution_count": 222,
   "metadata": {},
   "outputs": [],
   "source": [
    "#env.spawn_wagons(env.world_state, step= 3)"
   ]
  },
  {
   "cell_type": "code",
   "execution_count": 223,
   "metadata": {},
   "outputs": [
    {
     "data": {
      "text/plain": [
       "4453"
      ]
     },
     "execution_count": 223,
     "metadata": {},
     "output_type": "execute_result"
    }
   ],
   "source": [
    "wagon_moves = {0: MoveAction(1, \"111\")}\n",
    "len(env.wagons)"
   ]
  },
  {
   "cell_type": "code",
   "execution_count": 343,
   "metadata": {},
   "outputs": [],
   "source": [
    "def get_actions(env):\n",
    "    my_actions = dict()\n",
    "    starts = [e for e in env.available_orders.es]\n",
    "    starts = sorted(starts, key=lambda x: x['penalty'])\n",
    "    starts = [(e.source, e.target, e['order_num'], e['wagon_model'], e) for e in starts]\n",
    "    planned = set()\n",
    "    for s, e, order, wm, ee in starts:\n",
    "        sel = env.world_state.es.select(_source=s, _target=e)\n",
    "        road_sel = env.roads_graph.es.select(_source=s, _target=e)\n",
    "        if len(sel) == 0 or len(road_sel) == 0:\n",
    "            continue\n",
    "        edge = sel[0]\n",
    "        road_sel = road_sel[0]\n",
    "        move_cost = np.min([v for k, v in road_sel['info']])\n",
    "        duration = ee['dur']\n",
    "        min_unit = ee['min_unit']\n",
    "        max_unit = ee['max_unit']\n",
    "        tariff = ee['tariff'][0]\n",
    "        wms = np.unique([e.target for e in env.wagon_graph.es.select(_source=wm)])\n",
    "        start_wagons = [env.wagons[i] for i in edge.source_vertex['info'].wagons]\n",
    "        start_wagons = [sx for sx in start_wagons if sx.wm_index in wms]\n",
    "        start_wagons = [w for w in start_wagons if w.index not in planned]\n",
    "        if len(start_wagons) == 0:\n",
    "            break\n",
    "        #print(start_wagons)\n",
    "        \n",
    "        # penalty = ee['penalty']\n",
    "        #print(ee)\n",
    "        if len(start_wagons) < min_unit:\n",
    "            continue\n",
    "        wagon_ids = [w.index for w in start_wagons][:max_unit]\n",
    "        for i in wagon_ids:\n",
    "            planned.add(i)\n",
    "            my_actions[i] = (s, e, order, duration, tariff)\n",
    "    return my_actions\n",
    "    #break"
   ]
  },
  {
   "cell_type": "code",
   "execution_count": 344,
   "metadata": {},
   "outputs": [
    {
     "data": {
      "text/plain": [
       "{3469: (1442, 1458, '302201_812941937003_0707', 13, 53514),\n",
       " 3477: (1442, 1458, '302201_812941937003_0707', 13, 53514),\n",
       " 3478: (1442, 1458, '302201_812941937003_0707', 13, 53514),\n",
       " 3853: (1468, 1480, '303071_814704942105_0707', 14, 25768),\n",
       " 3854: (1468, 1480, '303071_814704942105_0707', 14, 25768),\n",
       " 3855: (1468, 1480, '303462_830575942105_0707', 14, 25768),\n",
       " 3856: (1468, 1480, '303462_830575942105_0707', 14, 25768),\n",
       " 3857: (1468, 1480, '303462_830576942105_0707', 14, 25768),\n",
       " 3858: (1468, 1480, '303462_830576942105_0707', 14, 25768)}"
      ]
     },
     "execution_count": 344,
     "metadata": {},
     "output_type": "execute_result"
    }
   ],
   "source": [
    "my_actions = get_actions(env)\n",
    "my_actions\n",
    "#for r in env.world_state.es[s, e]['route']:\n",
    "#    print(r.arrivals)\n"
   ]
  },
  {
   "cell_type": "code",
   "execution_count": 299,
   "metadata": {},
   "outputs": [],
   "source": [
    "# 0. validate (? ignore!)\n",
    "# 1. add moves, move these wagons from stations to routes, compute tariff\n",
    "# 2. inc current day\n",
    "# 3. compute costs for the wagons which are at the stations\n",
    "# 4. check for the newly arrived wagons: move them to destination stations, mark order as done, add profit\n",
    "\n",
    "\n"
   ]
  },
  {
   "cell_type": "code",
   "execution_count": 296,
   "metadata": {},
   "outputs": [],
   "source": [
    "#env.available_orders.es[0]\n",
    "for wid, (s, e, order_num, dur, tariff) in actions.items():\n",
    "    "
   ]
  },
  {
   "cell_type": "code",
   "execution_count": 297,
   "metadata": {},
   "outputs": [],
   "source": [
    "#len(env.world_state.vs[e]['info'].wagons), len(env.world_state.vs[s]['info'].wagons)\n",
    "#start_wagons"
   ]
  },
  {
   "cell_type": "code",
   "execution_count": 266,
   "metadata": {},
   "outputs": [],
   "source": [
    "# env.station_graph[0].vs[0]['info']\n",
    "#dir(env.wagon_graph.vs[wm])  #.successors()"
   ]
  },
  {
   "cell_type": "code",
   "execution_count": 230,
   "metadata": {},
   "outputs": [],
   "source": [
    "#[(s.name, len(s.wagons)) for s in env.world_state.vs['info']]\n",
    "# env.wagon_graph.vs[wm].predecessors() #successors()\n",
    "#dir(env.wagon_graph.vs[wm])"
   ]
  },
  {
   "cell_type": "code",
   "execution_count": 276,
   "metadata": {},
   "outputs": [
    {
     "data": {
      "text/plain": [
       "array([ 38,  42,  43,  51,  52,  60,  61,  69,  70, 136, 137, 146, 154,\n",
       "       155, 163, 164, 247, 252, 253, 254, 259, 260, 261, 266, 267, 268,\n",
       "       273, 274])"
      ]
     },
     "execution_count": 276,
     "metadata": {},
     "output_type": "execute_result"
    }
   ],
   "source": []
  },
  {
   "cell_type": "code",
   "execution_count": 135,
   "metadata": {},
   "outputs": [
    {
     "data": {
      "text/plain": [
       "[]"
      ]
     },
     "execution_count": 135,
     "metadata": {},
     "output_type": "execute_result"
    }
   ],
   "source": []
  },
  {
   "cell_type": "code",
   "execution_count": null,
   "metadata": {},
   "outputs": [],
   "source": [
    "\n",
    "\n"
   ]
  },
  {
   "cell_type": "code",
   "execution_count": 257,
   "metadata": {},
   "outputs": [
    {
     "data": {
      "text/plain": [
       "[38,\n",
       " 38,\n",
       " 38,\n",
       " 38,\n",
       " 38,\n",
       " 38,\n",
       " 38,\n",
       " 38,\n",
       " 38,\n",
       " 38,\n",
       " 38,\n",
       " 38,\n",
       " 42,\n",
       " 43,\n",
       " 51,\n",
       " 52,\n",
       " 60,\n",
       " 61,\n",
       " 69,\n",
       " 70,\n",
       " 136,\n",
       " 137,\n",
       " 146,\n",
       " 154,\n",
       " 155,\n",
       " 163,\n",
       " 164,\n",
       " 247,\n",
       " 252,\n",
       " 253,\n",
       " 254,\n",
       " 259,\n",
       " 260,\n",
       " 261,\n",
       " 266,\n",
       " 267,\n",
       " 268,\n",
       " 273,\n",
       " 274]"
      ]
     },
     "execution_count": 257,
     "metadata": {},
     "output_type": "execute_result"
    }
   ],
   "source": [
    "[e.target for e in wagon_graph.vs[38].out_edges()]"
   ]
  },
  {
   "cell_type": "code",
   "execution_count": 265,
   "metadata": {},
   "outputs": [
    {
     "data": {
      "text/plain": [
       "[42,\n",
       " 43,\n",
       " 51,\n",
       " 52,\n",
       " 60,\n",
       " 61,\n",
       " 69,\n",
       " 70,\n",
       " 136,\n",
       " 137,\n",
       " 146,\n",
       " 154,\n",
       " 155,\n",
       " 163,\n",
       " 164,\n",
       " 247,\n",
       " 252,\n",
       " 253,\n",
       " 254,\n",
       " 259,\n",
       " 260,\n",
       " 261,\n",
       " 266,\n",
       " 267,\n",
       " 268,\n",
       " 273,\n",
       " 274]"
      ]
     },
     "execution_count": 265,
     "metadata": {},
     "output_type": "execute_result"
    }
   ],
   "source": [
    "[e.target for e in wagon_graph.es if e.source==38]"
   ]
  },
  {
   "cell_type": "code",
   "execution_count": null,
   "metadata": {},
   "outputs": [],
   "source": []
  }
 ],
 "metadata": {
  "deepnote": {},
  "deepnote_execution_queue": [],
  "deepnote_notebook_id": "92583036-61c3-49fd-ac62-fab5824ef7f5",
  "kernelspec": {
   "display_name": "Python 3",
   "language": "python",
   "name": "python3"
  },
  "language_info": {
   "codemirror_mode": {
    "name": "ipython",
    "version": 3
   },
   "file_extension": ".py",
   "mimetype": "text/x-python",
   "name": "python",
   "nbconvert_exporter": "python",
   "pygments_lexer": "ipython3",
   "version": "3.7.9"
  }
 },
 "nbformat": 4,
 "nbformat_minor": 2
}

{
 "cells": [
  {
   "cell_type": "code",
   "execution_count": 1,
   "metadata": {
    "cell_id": "00000-9e4caaaf-99d7-4927-b773-3b5ffa14b9e4",
    "deepnote_cell_type": "code",
    "deepnote_to_be_reexecuted": false,
    "execution_millis": 235,
    "execution_start": 1613924636762,
    "source_hash": "1d6601c7",
    "tags": []
   },
   "outputs": [
    {
     "name": "stderr",
     "output_type": "stream",
     "text": [
      "In /Users/lacemaker/anaconda3/envs/data_env/lib/python3.7/site-packages/matplotlib/mpl-data/stylelib/_classic_test.mplstyle: \n",
      "The text.latex.preview rcparam was deprecated in Matplotlib 3.3 and will be removed two minor releases later.\n",
      "In /Users/lacemaker/anaconda3/envs/data_env/lib/python3.7/site-packages/matplotlib/mpl-data/stylelib/_classic_test.mplstyle: \n",
      "The mathtext.fallback_to_cm rcparam was deprecated in Matplotlib 3.3 and will be removed two minor releases later.\n",
      "In /Users/lacemaker/anaconda3/envs/data_env/lib/python3.7/site-packages/matplotlib/mpl-data/stylelib/_classic_test.mplstyle: Support for setting the 'mathtext.fallback_to_cm' rcParam is deprecated since 3.3 and will be removed two minor releases later; use 'mathtext.fallback : 'cm' instead.\n",
      "In /Users/lacemaker/anaconda3/envs/data_env/lib/python3.7/site-packages/matplotlib/mpl-data/stylelib/_classic_test.mplstyle: \n",
      "The validate_bool_maybe_none function was deprecated in Matplotlib 3.3 and will be removed two minor releases later.\n",
      "In /Users/lacemaker/anaconda3/envs/data_env/lib/python3.7/site-packages/matplotlib/mpl-data/stylelib/_classic_test.mplstyle: \n",
      "The savefig.jpeg_quality rcparam was deprecated in Matplotlib 3.3 and will be removed two minor releases later.\n",
      "In /Users/lacemaker/anaconda3/envs/data_env/lib/python3.7/site-packages/matplotlib/mpl-data/stylelib/_classic_test.mplstyle: \n",
      "The keymap.all_axes rcparam was deprecated in Matplotlib 3.3 and will be removed two minor releases later.\n",
      "In /Users/lacemaker/anaconda3/envs/data_env/lib/python3.7/site-packages/matplotlib/mpl-data/stylelib/_classic_test.mplstyle: \n",
      "The animation.avconv_path rcparam was deprecated in Matplotlib 3.3 and will be removed two minor releases later.\n",
      "In /Users/lacemaker/anaconda3/envs/data_env/lib/python3.7/site-packages/matplotlib/mpl-data/stylelib/_classic_test.mplstyle: \n",
      "The animation.avconv_args rcparam was deprecated in Matplotlib 3.3 and will be removed two minor releases later.\n"
     ]
    }
   ],
   "source": [
    "# Start writing code here...\n",
    "import os\n",
    "import sys\n",
    "import pandas as pd\n",
    "import numpy as np\n",
    "import matplotlib.pyplot as plt\n",
    "%matplotlib inline\n",
    "import igraph"
   ]
  },
  {
   "cell_type": "markdown",
   "metadata": {
    "cell_id": "00001-ee0c241e-8254-47c8-928b-939bc68c82e7",
    "deepnote_cell_type": "markdown",
    "tags": []
   },
   "source": [
    "This notebook contains template with example of data usage and loading (from prepared csv files, which were produced from original .xlsx file with the help of pandas)"
   ]
  },
  {
   "cell_type": "code",
   "execution_count": 2,
   "metadata": {
    "cell_id": "00002-5abc8c25-24b9-4461-8295-5c5dc4942c94",
    "deepnote_cell_type": "code",
    "deepnote_to_be_reexecuted": false,
    "execution_millis": 4,
    "execution_start": 1613924637001,
    "source_hash": "64b13c8f",
    "tags": []
   },
   "outputs": [],
   "source": [
    "if not \"..\" in sys.path:\n",
    "    sys.path.insert(0, \"..\")"
   ]
  },
  {
   "cell_type": "code",
   "execution_count": 3,
   "metadata": {
    "cell_id": "00003-df3ea055-0aad-46bb-98df-cd11073db969",
    "deepnote_cell_type": "code",
    "deepnote_to_be_reexecuted": false,
    "execution_millis": 19,
    "execution_start": 1613924637005,
    "source_hash": "2f19d1f9",
    "tags": []
   },
   "outputs": [],
   "source": [
    "%load_ext autoreload\n",
    "%autoreload 2"
   ]
  },
  {
   "cell_type": "code",
   "execution_count": 4,
   "metadata": {
    "cell_id": "00004-a0475e6b-011d-4a25-b0b7-62d413a1b100",
    "deepnote_cell_type": "code",
    "deepnote_to_be_reexecuted": false,
    "execution_millis": 3,
    "execution_start": 1613924637070,
    "source_hash": "f59a5ad7",
    "tags": []
   },
   "outputs": [
    {
     "data": {
      "text/plain": [
       "['.DS_Store',\n",
       " 'description.txt',\n",
       " 'input_wagon.xlsx',\n",
       " 'metrics.csv.gz',\n",
       " 'orders7.csv.gz',\n",
       " 'orders8.csv.gz',\n",
       " 'output_wagon.xlsx',\n",
       " 'sources.csv.gz',\n",
       " 'standplaces.csv.gz',\n",
       " 'wagon.zip',\n",
       " 'wagon_mode_compat.csv.gz']"
      ]
     },
     "execution_count": 4,
     "metadata": {},
     "output_type": "execute_result"
    }
   ],
   "source": [
    "os.listdir(\"../data\")"
   ]
  },
  {
   "cell_type": "code",
   "execution_count": 5,
   "metadata": {
    "cell_id": "00005-8c8b3759-e3d5-4d05-abc6-2b191befe1db",
    "deepnote_cell_type": "code",
    "deepnote_to_be_reexecuted": false,
    "execution_millis": 576,
    "execution_start": 1613924637071,
    "source_hash": "baa24a12",
    "tags": []
   },
   "outputs": [],
   "source": [
    "orders7 = pd.read_csv(\"../data/orders7.csv.gz\")\n",
    "orders8 = pd.read_csv(\"../data/orders8.csv.gz\")\n",
    "wagon_mode_compat = pd.read_csv(\"../data/wagon_mode_compat.csv.gz\") # +\n",
    "sources = pd.read_csv(\"../data/sources.csv.gz\") # +\n",
    "standplaces = pd.read_csv(\"../data/standplaces.csv.gz\")\n",
    "metrics = pd.read_csv(\"../data/metrics.csv.gz\") #+"
   ]
  },
  {
   "cell_type": "code",
   "execution_count": 6,
   "metadata": {
    "cell_id": "00006-fd49118c-4dcc-4023-ad90-ba1397c61032",
    "deepnote_cell_type": "code",
    "deepnote_to_be_reexecuted": false,
    "execution_millis": 266,
    "execution_start": 1613931304406,
    "source_hash": "521793d0",
    "tags": []
   },
   "outputs": [],
   "source": [
    "# load data from file (this gets checked and reloaded because of autoreload magic above)\n",
    "from utils.abstractions import *"
   ]
  },
  {
   "cell_type": "code",
   "execution_count": 7,
   "metadata": {
    "cell_id": "00007-7d507116-ca16-4a4b-8ca2-d22eef663c8e",
    "deepnote_cell_type": "code",
    "deepnote_to_be_reexecuted": false,
    "execution_millis": 6373,
    "execution_start": 1613931321126,
    "source_hash": "19155501",
    "tags": []
   },
   "outputs": [],
   "source": [
    "roads_graph, name2vertex = get_roads_graph(metrics, debug=False)"
   ]
  },
  {
   "cell_type": "code",
   "execution_count": 8,
   "metadata": {
    "cell_id": "00008-2dbbeddd-777b-4c7e-b3eb-91a660fc6afd",
    "deepnote_cell_type": "code",
    "deepnote_to_be_reexecuted": false,
    "execution_millis": 17,
    "execution_start": 1613931329578,
    "source_hash": "a7bab2a4",
    "tags": []
   },
   "outputs": [
    {
     "data": {
      "text/plain": [
       "([(100, 104), (200, 138), (305, 355)], 9, 5)"
      ]
     },
     "execution_count": 8,
     "metadata": {},
     "output_type": "execute_result"
    }
   ],
   "source": [
    "roads_graph.es[0]['info'], roads_graph.es[0]['distance'], roads_graph.es[0]['time']"
   ]
  },
  {
   "cell_type": "code",
   "execution_count": 9,
   "metadata": {
    "cell_id": "00009-6c762db0-1c19-469b-a3fb-641ecfaf7c18",
    "deepnote_cell_type": "code",
    "deepnote_to_be_reexecuted": false,
    "execution_millis": 1,
    "execution_start": 1613931357970,
    "source_hash": "6c5dee4c",
    "tags": []
   },
   "outputs": [],
   "source": [
    "roads_graph.es['weight'] = roads_graph.es['distance']"
   ]
  },
  {
   "cell_type": "code",
   "execution_count": 10,
   "metadata": {
    "cell_id": "00009-00242f4c-4a1e-4ae5-8a98-8f91291fb218",
    "deepnote_cell_type": "code",
    "deepnote_to_be_reexecuted": false,
    "execution_millis": 10451,
    "execution_start": 1613931537954,
    "source_hash": "39c37b2b",
    "tags": []
   },
   "outputs": [],
   "source": [
    "# dijkstra_paths = roads_graph.shortest_paths_dijkstra(weights=\"weight\")"
   ]
  },
  {
   "cell_type": "code",
   "execution_count": 11,
   "metadata": {
    "cell_id": "00011-c2318ec9-2d21-46b8-a992-115358013217",
    "deepnote_cell_type": "code",
    "deepnote_to_be_reexecuted": false,
    "execution_millis": 553,
    "execution_start": 1613931636138,
    "source_hash": "670ad9b1",
    "tags": []
   },
   "outputs": [
    {
     "data": {
      "text/html": [
       "<div>\n",
       "<style scoped>\n",
       "    .dataframe tbody tr th:only-of-type {\n",
       "        vertical-align: middle;\n",
       "    }\n",
       "\n",
       "    .dataframe tbody tr th {\n",
       "        vertical-align: top;\n",
       "    }\n",
       "\n",
       "    .dataframe thead th {\n",
       "        text-align: right;\n",
       "    }\n",
       "</style>\n",
       "<table border=\"1\" class=\"dataframe\">\n",
       "  <thead>\n",
       "    <tr style=\"text-align: right;\">\n",
       "      <th></th>\n",
       "      <th>Unnamed: 0</th>\n",
       "      <th>Station</th>\n",
       "      <th>Date</th>\n",
       "      <th>Units</th>\n",
       "      <th>Stand</th>\n",
       "      <th>WagonModel</th>\n",
       "    </tr>\n",
       "  </thead>\n",
       "  <tbody>\n",
       "  </tbody>\n",
       "</table>\n",
       "</div>"
      ],
      "text/plain": [
       "Empty DataFrame\n",
       "Columns: [Unnamed: 0, Station, Date, Units, Stand, WagonModel]\n",
       "Index: []"
      ]
     },
     "execution_count": 11,
     "metadata": {},
     "output_type": "execute_result"
    }
   ],
   "source": [
    "# np.min(dijkstra_paths), np.max(dijkstra_paths), np.mean(dijkstra_paths), np.median(dijkstra_paths)\n",
    "sources[sources.Station==190205]"
   ]
  },
  {
   "cell_type": "code",
   "execution_count": 12,
   "metadata": {
    "cell_id": "00013-d6e68a72-8c81-43ad-89bf-6590125deab4",
    "deepnote_cell_type": "code",
    "deepnote_to_be_reexecuted": false,
    "execution_millis": 187,
    "execution_start": 1613931610090,
    "source_hash": "8e4632dd",
    "tags": []
   },
   "outputs": [],
   "source": [
    "gr = init_stations(sources, name2vertex)\n"
   ]
  },
  {
   "cell_type": "code",
   "execution_count": 13,
   "metadata": {
    "cell_id": "00012-a881bcec-fceb-4995-9742-3ca7e7ff3ed8",
    "deepnote_cell_type": "code",
    "deepnote_to_be_reexecuted": false,
    "execution_millis": 189,
    "execution_start": 1613931602379,
    "source_hash": "c0c161ec",
    "tags": []
   },
   "outputs": [
    {
     "data": {
      "text/plain": [
       "{'2070': [(1, 50), (1, 50)],\n",
       " '2071': [(1, 50)],\n",
       " '2135': [(1, 50)],\n",
       " '2062': [(1, 50)],\n",
       " '2155': [(1, 50)]}"
      ]
     },
     "execution_count": 13,
     "metadata": {},
     "output_type": "execute_result"
    }
   ],
   "source": [
    "190205\n",
    "gr[0].vs[0]['info']"
   ]
  },
  {
   "cell_type": "code",
   "execution_count": 14,
   "metadata": {},
   "outputs": [],
   "source": [
    "gr, wagons = get_wagon_graph(wagon_mode_compat)"
   ]
  },
  {
   "cell_type": "code",
   "execution_count": 15,
   "metadata": {},
   "outputs": [],
   "source": [
    "def create_order_graph(orders, name2vertex):\n",
    "    columns = [\n",
    "        \"OrderNum\",\n",
    "        \"Start\",\n",
    "        \"Finish\",\n",
    "        #\"StartDate\",\n",
    "        \"Dur\",\n",
    "        \"MinUnit\",\n",
    "        \"MaxUnit\",\n",
    "        \"Tariff\",\n",
    "        \"NeedWagonModel\",\n",
    "        \"ShortagePenalty\"\n",
    "    ]\n",
    "    vertices = np.unique(np.concatenate([\n",
    "        orders.Start.values,\n",
    "        orders.Finish.values\n",
    "    ]))\n",
    "    for v in vertices:\n",
    "        v = str(v)\n",
    "        if v not in name2vertex:\n",
    "            index = len(name2vertex)\n",
    "            name2vertex[v] = index\n",
    "    graph = Graph()\n",
    "    graph.add_vertices(len(name2vertex))\n",
    "    edges = []\n",
    "    for start, finish in orders[[\"Start\", \"Finish\"]].values:\n",
    "        start = str(start)\n",
    "        finish = str(finish)\n",
    "        u = name2vertex[start]\n",
    "        v = name2vertex[finish]\n",
    "        edges.append((u, v))\n",
    "    # print(edges)\n",
    "    graph.add_edges(edges)\n",
    "    graph['order_num'] = orders[\"OrderNum\"].values\n",
    "    graph['dur'] = orders[\"Dur\"].values\n",
    "    graph['min_unit'] = orders[\"MinUnit\"].values\n",
    "    graph['max_unit'] = orders[\"MaxUnit\"].values\n",
    "    graph['tariff'] = orders[\"Tariff\"].apply(lambda xs: [int(x) for x in xs.split(\":\")]).values\n",
    "    graph[\"wagon_model\"] = orders[\"NeedWagonModel\"].values\n",
    "    graph[\"penalty\"] = orders[\"ShortagePenalty\"].values\n",
    "    return graph\n",
    "    \n",
    "def build_orders(orders, name2vertex):\n",
    "    columns = [\n",
    "        \"OrderNum\",\n",
    "        \"Start\",\n",
    "        \"Finish\",\n",
    "        \"StartDate\",\n",
    "        \"Dur\",\n",
    "        \"MinUnit\",\n",
    "        \"MaxUnit\",\n",
    "        \"Tariff\",\n",
    "        \"NeedWagonModel\",\n",
    "        \"ShortagePenalty\"\n",
    "    ]\n",
    "    graphs = dict()\n",
    "    for start_date, rows in orders7[columns].groupby(\"StartDate\"):\n",
    "        graph = create_order_graph(rows, name2vertex)\n",
    "        graphs[start_date] = graph\n",
    "    # return start_date, rows\n",
    "    return graphs"
   ]
  },
  {
   "cell_type": "code",
   "execution_count": 16,
   "metadata": {},
   "outputs": [],
   "source": [
    "graphs = build_orders(orders7, name2vertex)"
   ]
  },
  {
   "cell_type": "code",
   "execution_count": 17,
   "metadata": {},
   "outputs": [],
   "source": [
    "env = WorldModelEnv(\n",
    "    orders=orders7,\n",
    "    wagon_mode_compat=wagon_mode_compat,\n",
    "    sources=sources, metrics=metrics)"
   ]
  },
  {
   "cell_type": "code",
   "execution_count": 18,
   "metadata": {},
   "outputs": [],
   "source": [
    "gr = env.init_world_graph()"
   ]
  },
  {
   "cell_type": "code",
   "execution_count": 19,
   "metadata": {},
   "outputs": [],
   "source": [
    "gr.es[0]['route'].arrivals[1] = (1,2,3)"
   ]
  },
  {
   "cell_type": "code",
   "execution_count": 20,
   "metadata": {},
   "outputs": [
    {
     "data": {
      "text/plain": [
       "{}"
      ]
     },
     "execution_count": 20,
     "metadata": {},
     "output_type": "execute_result"
    }
   ],
   "source": [
    "gr.es[2]['route'].arrivals"
   ]
  },
  {
   "cell_type": "markdown",
   "metadata": {
    "created_in_deepnote_cell": true,
    "deepnote_cell_type": "markdown",
    "tags": []
   },
   "source": [
    "<a style='text-decoration:none;line-height:16px;display:flex;color:#5B5B62;padding:10px;justify-content:end;' href='https://deepnote.com?utm_source=created-in-deepnote-cell&projectId=7ba67d69-ce72-437b-8bf4-6d3c9b906c4a' target=\"_blank\">\n",
    "<img style='display:inline;max-height:16px;margin:0px;margin-right:7.5px;' src='data:image/svg+xml;base64,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' > </img>\n",
    "Created in <span style='font-weight:600;margin-left:4px;'>Deepnote</span></a>"
   ]
  },
  {
   "cell_type": "code",
   "execution_count": 22,
   "metadata": {},
   "outputs": [
    {
     "data": {
      "text/plain": [
       "1590"
      ]
     },
     "execution_count": 22,
     "metadata": {},
     "output_type": "execute_result"
    }
   ],
   "source": [
    "env.station2vertex['104202']"
   ]
  },
  {
   "cell_type": "code",
   "execution_count": 29,
   "metadata": {},
   "outputs": [
    {
     "data": {
      "text/plain": [
       "False"
      ]
     },
     "execution_count": 29,
     "metadata": {},
     "output_type": "execute_result"
    }
   ],
   "source": [
    "(metrics.From == 104202).any()"
   ]
  },
  {
   "cell_type": "code",
   "execution_count": 32,
   "metadata": {},
   "outputs": [
    {
     "data": {
      "text/html": [
       "<div>\n",
       "<style scoped>\n",
       "    .dataframe tbody tr th:only-of-type {\n",
       "        vertical-align: middle;\n",
       "    }\n",
       "\n",
       "    .dataframe tbody tr th {\n",
       "        vertical-align: top;\n",
       "    }\n",
       "\n",
       "    .dataframe thead th {\n",
       "        text-align: right;\n",
       "    }\n",
       "</style>\n",
       "<table border=\"1\" class=\"dataframe\">\n",
       "  <thead>\n",
       "    <tr style=\"text-align: right;\">\n",
       "      <th></th>\n",
       "      <th>Unnamed: 0</th>\n",
       "      <th>From</th>\n",
       "      <th>To</th>\n",
       "      <th>Group</th>\n",
       "      <th>Distance</th>\n",
       "      <th>Time</th>\n",
       "      <th>PriceUnit</th>\n",
       "    </tr>\n",
       "  </thead>\n",
       "  <tbody>\n",
       "  </tbody>\n",
       "</table>\n",
       "</div>"
      ],
      "text/plain": [
       "Empty DataFrame\n",
       "Columns: [Unnamed: 0, From, To, Group, Distance, Time, PriceUnit]\n",
       "Index: []"
      ]
     },
     "execution_count": 32,
     "metadata": {},
     "output_type": "execute_result"
    }
   ],
   "source": [
    "metrics[(metrics.From == 104202) | (metrics.To==104202)]"
   ]
  },
  {
   "cell_type": "code",
   "execution_count": 33,
   "metadata": {},
   "outputs": [
    {
     "data": {
      "text/html": [
       "<div>\n",
       "<style scoped>\n",
       "    .dataframe tbody tr th:only-of-type {\n",
       "        vertical-align: middle;\n",
       "    }\n",
       "\n",
       "    .dataframe tbody tr th {\n",
       "        vertical-align: top;\n",
       "    }\n",
       "\n",
       "    .dataframe thead th {\n",
       "        text-align: right;\n",
       "    }\n",
       "</style>\n",
       "<table border=\"1\" class=\"dataframe\">\n",
       "  <thead>\n",
       "    <tr style=\"text-align: right;\">\n",
       "      <th></th>\n",
       "      <th>Unnamed: 0</th>\n",
       "      <th>From</th>\n",
       "      <th>To</th>\n",
       "      <th>Group</th>\n",
       "      <th>Distance</th>\n",
       "      <th>Time</th>\n",
       "      <th>PriceUnit</th>\n",
       "    </tr>\n",
       "  </thead>\n",
       "  <tbody>\n",
       "    <tr>\n",
       "      <th>0</th>\n",
       "      <td>1</td>\n",
       "      <td>10002</td>\n",
       "      <td>10303</td>\n",
       "      <td>100</td>\n",
       "      <td>9</td>\n",
       "      <td>5</td>\n",
       "      <td>104</td>\n",
       "    </tr>\n",
       "    <tr>\n",
       "      <th>1</th>\n",
       "      <td>2</td>\n",
       "      <td>10002</td>\n",
       "      <td>10303</td>\n",
       "      <td>200</td>\n",
       "      <td>9</td>\n",
       "      <td>5</td>\n",
       "      <td>138</td>\n",
       "    </tr>\n",
       "    <tr>\n",
       "      <th>2</th>\n",
       "      <td>3</td>\n",
       "      <td>10002</td>\n",
       "      <td>10303</td>\n",
       "      <td>305</td>\n",
       "      <td>9</td>\n",
       "      <td>5</td>\n",
       "      <td>355</td>\n",
       "    </tr>\n",
       "    <tr>\n",
       "      <th>3</th>\n",
       "      <td>4</td>\n",
       "      <td>10002</td>\n",
       "      <td>10905</td>\n",
       "      <td>100</td>\n",
       "      <td>60</td>\n",
       "      <td>5</td>\n",
       "      <td>685</td>\n",
       "    </tr>\n",
       "    <tr>\n",
       "      <th>4</th>\n",
       "      <td>5</td>\n",
       "      <td>10002</td>\n",
       "      <td>10905</td>\n",
       "      <td>200</td>\n",
       "      <td>60</td>\n",
       "      <td>5</td>\n",
       "      <td>914</td>\n",
       "    </tr>\n",
       "    <tr>\n",
       "      <th>...</th>\n",
       "      <td>...</td>\n",
       "      <td>...</td>\n",
       "      <td>...</td>\n",
       "      <td>...</td>\n",
       "      <td>...</td>\n",
       "      <td>...</td>\n",
       "      <td>...</td>\n",
       "    </tr>\n",
       "    <tr>\n",
       "      <th>939399</th>\n",
       "      <td>939400</td>\n",
       "      <td>998100</td>\n",
       "      <td>980605</td>\n",
       "      <td>304</td>\n",
       "      <td>2243</td>\n",
       "      <td>16</td>\n",
       "      <td>55310</td>\n",
       "    </tr>\n",
       "    <tr>\n",
       "      <th>939400</th>\n",
       "      <td>939401</td>\n",
       "      <td>998100</td>\n",
       "      <td>984502</td>\n",
       "      <td>304</td>\n",
       "      <td>2372</td>\n",
       "      <td>16</td>\n",
       "      <td>59330</td>\n",
       "    </tr>\n",
       "    <tr>\n",
       "      <th>939401</th>\n",
       "      <td>939402</td>\n",
       "      <td>998100</td>\n",
       "      <td>988306</td>\n",
       "      <td>304</td>\n",
       "      <td>2126</td>\n",
       "      <td>15</td>\n",
       "      <td>53478</td>\n",
       "    </tr>\n",
       "    <tr>\n",
       "      <th>939402</th>\n",
       "      <td>939403</td>\n",
       "      <td>998100</td>\n",
       "      <td>988306</td>\n",
       "      <td>313</td>\n",
       "      <td>2126</td>\n",
       "      <td>15</td>\n",
       "      <td>50353</td>\n",
       "    </tr>\n",
       "    <tr>\n",
       "      <th>939403</th>\n",
       "      <td>939404</td>\n",
       "      <td>998100</td>\n",
       "      <td>996904</td>\n",
       "      <td>303</td>\n",
       "      <td>241</td>\n",
       "      <td>6</td>\n",
       "      <td>6026</td>\n",
       "    </tr>\n",
       "  </tbody>\n",
       "</table>\n",
       "<p>939404 rows × 7 columns</p>\n",
       "</div>"
      ],
      "text/plain": [
       "        Unnamed: 0    From      To  Group  Distance  Time  PriceUnit\n",
       "0                1   10002   10303    100         9     5        104\n",
       "1                2   10002   10303    200         9     5        138\n",
       "2                3   10002   10303    305         9     5        355\n",
       "3                4   10002   10905    100        60     5        685\n",
       "4                5   10002   10905    200        60     5        914\n",
       "...            ...     ...     ...    ...       ...   ...        ...\n",
       "939399      939400  998100  980605    304      2243    16      55310\n",
       "939400      939401  998100  984502    304      2372    16      59330\n",
       "939401      939402  998100  988306    304      2126    15      53478\n",
       "939402      939403  998100  988306    313      2126    15      50353\n",
       "939403      939404  998100  996904    303       241     6       6026\n",
       "\n",
       "[939404 rows x 7 columns]"
      ]
     },
     "execution_count": 33,
     "metadata": {},
     "output_type": "execute_result"
    }
   ],
   "source": [
    "metrics"
   ]
  },
  {
   "cell_type": "code",
   "execution_count": null,
   "metadata": {},
   "outputs": [],
   "source": []
  }
 ],
 "metadata": {
  "deepnote": {},
  "deepnote_execution_queue": [],
  "deepnote_notebook_id": "92583036-61c3-49fd-ac62-fab5824ef7f5",
  "kernelspec": {
   "display_name": "Python 3",
   "language": "python",
   "name": "python3"
  },
  "language_info": {
   "codemirror_mode": {
    "name": "ipython",
    "version": 3
   },
   "file_extension": ".py",
   "mimetype": "text/x-python",
   "name": "python",
   "nbconvert_exporter": "python",
   "pygments_lexer": "ipython3",
   "version": "3.7.9"
  }
 },
 "nbformat": 4,
 "nbformat_minor": 2
}

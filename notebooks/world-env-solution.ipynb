{
 "cells": [
  {
   "cell_type": "code",
   "execution_count": 1,
   "metadata": {
    "cell_id": "00000-9e4caaaf-99d7-4927-b773-3b5ffa14b9e4",
    "deepnote_cell_type": "code",
    "deepnote_to_be_reexecuted": false,
    "execution_millis": 235,
    "execution_start": 1613924636762,
    "source_hash": "1d6601c7",
    "tags": []
   },
   "outputs": [
    {
     "name": "stderr",
     "output_type": "stream",
     "text": [
      "In /Users/lacemaker/anaconda3/envs/data_env/lib/python3.7/site-packages/matplotlib/mpl-data/stylelib/_classic_test.mplstyle: \n",
      "The text.latex.preview rcparam was deprecated in Matplotlib 3.3 and will be removed two minor releases later.\n",
      "In /Users/lacemaker/anaconda3/envs/data_env/lib/python3.7/site-packages/matplotlib/mpl-data/stylelib/_classic_test.mplstyle: \n",
      "The mathtext.fallback_to_cm rcparam was deprecated in Matplotlib 3.3 and will be removed two minor releases later.\n",
      "In /Users/lacemaker/anaconda3/envs/data_env/lib/python3.7/site-packages/matplotlib/mpl-data/stylelib/_classic_test.mplstyle: Support for setting the 'mathtext.fallback_to_cm' rcParam is deprecated since 3.3 and will be removed two minor releases later; use 'mathtext.fallback : 'cm' instead.\n",
      "In /Users/lacemaker/anaconda3/envs/data_env/lib/python3.7/site-packages/matplotlib/mpl-data/stylelib/_classic_test.mplstyle: \n",
      "The validate_bool_maybe_none function was deprecated in Matplotlib 3.3 and will be removed two minor releases later.\n",
      "In /Users/lacemaker/anaconda3/envs/data_env/lib/python3.7/site-packages/matplotlib/mpl-data/stylelib/_classic_test.mplstyle: \n",
      "The savefig.jpeg_quality rcparam was deprecated in Matplotlib 3.3 and will be removed two minor releases later.\n",
      "In /Users/lacemaker/anaconda3/envs/data_env/lib/python3.7/site-packages/matplotlib/mpl-data/stylelib/_classic_test.mplstyle: \n",
      "The keymap.all_axes rcparam was deprecated in Matplotlib 3.3 and will be removed two minor releases later.\n",
      "In /Users/lacemaker/anaconda3/envs/data_env/lib/python3.7/site-packages/matplotlib/mpl-data/stylelib/_classic_test.mplstyle: \n",
      "The animation.avconv_path rcparam was deprecated in Matplotlib 3.3 and will be removed two minor releases later.\n",
      "In /Users/lacemaker/anaconda3/envs/data_env/lib/python3.7/site-packages/matplotlib/mpl-data/stylelib/_classic_test.mplstyle: \n",
      "The animation.avconv_args rcparam was deprecated in Matplotlib 3.3 and will be removed two minor releases later.\n"
     ]
    }
   ],
   "source": [
    "# Start writing code here...\n",
    "import os\n",
    "import sys\n",
    "import pandas as pd\n",
    "import numpy as np\n",
    "import matplotlib.pyplot as plt\n",
    "%matplotlib inline\n",
    "import igraph"
   ]
  },
  {
   "cell_type": "markdown",
   "metadata": {
    "cell_id": "00001-ee0c241e-8254-47c8-928b-939bc68c82e7",
    "deepnote_cell_type": "markdown",
    "tags": []
   },
   "source": [
    "This notebook contains template with example of data usage and loading (from prepared csv files, which were produced from original .xlsx file with the help of pandas)"
   ]
  },
  {
   "cell_type": "code",
   "execution_count": 2,
   "metadata": {
    "cell_id": "00002-5abc8c25-24b9-4461-8295-5c5dc4942c94",
    "deepnote_cell_type": "code",
    "deepnote_to_be_reexecuted": false,
    "execution_millis": 4,
    "execution_start": 1613924637001,
    "source_hash": "64b13c8f",
    "tags": []
   },
   "outputs": [],
   "source": [
    "if not \"..\" in sys.path:\n",
    "    sys.path.insert(0, \"..\")"
   ]
  },
  {
   "cell_type": "code",
   "execution_count": 3,
   "metadata": {
    "cell_id": "00003-df3ea055-0aad-46bb-98df-cd11073db969",
    "deepnote_cell_type": "code",
    "deepnote_to_be_reexecuted": false,
    "execution_millis": 19,
    "execution_start": 1613924637005,
    "source_hash": "2f19d1f9",
    "tags": []
   },
   "outputs": [],
   "source": [
    "%load_ext autoreload\n",
    "%autoreload 2"
   ]
  },
  {
   "cell_type": "code",
   "execution_count": 4,
   "metadata": {
    "cell_id": "00004-a0475e6b-011d-4a25-b0b7-62d413a1b100",
    "deepnote_cell_type": "code",
    "deepnote_to_be_reexecuted": false,
    "execution_millis": 3,
    "execution_start": 1613924637070,
    "source_hash": "f59a5ad7",
    "tags": []
   },
   "outputs": [
    {
     "data": {
      "text/plain": [
       "['.DS_Store',\n",
       " 'description.txt',\n",
       " 'input_wagon.xlsx',\n",
       " 'metrics.csv.gz',\n",
       " 'orders7.csv.gz',\n",
       " 'orders8.csv.gz',\n",
       " 'output_wagon.xlsx',\n",
       " 'sources.csv.gz',\n",
       " 'standplaces.csv.gz',\n",
       " 'wagon.zip',\n",
       " 'wagon_mode_compat.csv.gz']"
      ]
     },
     "execution_count": 4,
     "metadata": {},
     "output_type": "execute_result"
    }
   ],
   "source": [
    "os.listdir(\"../data\")"
   ]
  },
  {
   "cell_type": "code",
   "execution_count": 5,
   "metadata": {
    "cell_id": "00005-8c8b3759-e3d5-4d05-abc6-2b191befe1db",
    "deepnote_cell_type": "code",
    "deepnote_to_be_reexecuted": false,
    "execution_millis": 576,
    "execution_start": 1613924637071,
    "source_hash": "baa24a12",
    "tags": []
   },
   "outputs": [],
   "source": [
    "orders7 = pd.read_csv(\"../data/orders7.csv.gz\")\n",
    "orders8 = pd.read_csv(\"../data/orders8.csv.gz\")\n",
    "wagon_mode_compat = pd.read_csv(\"../data/wagon_mode_compat.csv.gz\") # +\n",
    "sources = pd.read_csv(\"../data/sources.csv.gz\") # +\n",
    "standplaces = pd.read_csv(\"../data/standplaces.csv.gz\")\n",
    "metrics = pd.read_csv(\"../data/metrics.csv.gz\") #+"
   ]
  },
  {
   "cell_type": "code",
   "execution_count": 6,
   "metadata": {
    "cell_id": "00006-fd49118c-4dcc-4023-ad90-ba1397c61032",
    "deepnote_cell_type": "code",
    "deepnote_to_be_reexecuted": false,
    "execution_millis": 266,
    "execution_start": 1613931304406,
    "source_hash": "521793d0",
    "tags": []
   },
   "outputs": [],
   "source": [
    "# load data from file (this gets checked and reloaded because of autoreload magic above)\n",
    "from utils.abstractions import *"
   ]
  },
  {
   "cell_type": "code",
   "execution_count": 34,
   "metadata": {},
   "outputs": [],
   "source": [
    "env = WorldModelEnv(\n",
    "    orders=orders7,\n",
    "    wagon_mode_compat=wagon_mode_compat,\n",
    "    sources=sources, metrics=metrics)"
   ]
  },
  {
   "cell_type": "code",
   "execution_count": 35,
   "metadata": {},
   "outputs": [
    {
     "data": {
      "text/plain": [
       "<utils.abstractions.WorldModelEnv at 0x1369efa50>"
      ]
     },
     "execution_count": 35,
     "metadata": {},
     "output_type": "execute_result"
    }
   ],
   "source": [
    "env"
   ]
  },
  {
   "cell_type": "code",
   "execution_count": 36,
   "metadata": {},
   "outputs": [],
   "source": [
    "def get_actions(env):\n",
    "    \"\"\"Custom strategy.\n",
    "    \n",
    "    Accepts WorldModelEnv object\n",
    "    \n",
    "    Returns dict: wagon_id -> (start, end, order_num, duration, tariff)\n",
    "    \"\"\"\n",
    "    my_actions = dict()\n",
    "    starts = [e for e in env.available_orders.es]\n",
    "    starts = sorted(starts, key=lambda x: x['penalty'])\n",
    "    starts = [(e.source, e.target, e['order_num'], e['wagon_model'], e) for e in starts]\n",
    "    planned = set()\n",
    "    for s, e, order, wm, ee in starts:\n",
    "        sel = env.world_state.es.select(_source=s, _target=e)\n",
    "        try:\n",
    "            road_sel = env.roads_graph.es.select(_source=s, _target=e)\n",
    "        except:\n",
    "            road_sel = []\n",
    "        if len(sel) == 0 or len(road_sel) == 0:\n",
    "            continue\n",
    "        edge = sel[0]\n",
    "        road_sel = road_sel[0]\n",
    "        move_cost = np.min([v for k, v in road_sel['info']])\n",
    "        duration = ee['dur']\n",
    "        min_unit = ee['min_unit']\n",
    "        max_unit = ee['max_unit']\n",
    "        tariff = ee['tariff'][0]\n",
    "        wms = np.unique([e.target for e in env.wagon_graph.es.select(_source=wm)])\n",
    "        start_wagons = [env.wagons[i] for i in edge.source_vertex['info'].wagons]\n",
    "        start_wagons = [sx for sx in start_wagons if sx.wm_index in wms]\n",
    "        start_wagons = [w for w in start_wagons if w.index not in planned]\n",
    "        if len(start_wagons) == 0:\n",
    "            break\n",
    "        #print(start_wagons)\n",
    "        \n",
    "        # penalty = ee['penalty']\n",
    "        #print(ee)\n",
    "        if len(start_wagons) < min_unit:\n",
    "            continue\n",
    "        wagon_ids = [w.index for w in start_wagons][:max_unit]\n",
    "        for i in wagon_ids:\n",
    "            planned.add(i)\n",
    "            my_actions[i] = (s, e, order, duration, tariff)\n",
    "    return my_actions\n",
    "    #break"
   ]
  },
  {
   "cell_type": "code",
   "execution_count": 37,
   "metadata": {},
   "outputs": [],
   "source": [
    "max_day = np.unique(orders7.StartDate).max()"
   ]
  },
  {
   "cell_type": "markdown",
   "metadata": {},
   "source": [
    "What step() method does:\n",
    "\n",
    "0. validate (? ignore!)\n",
    "1. add moves, move these wagons from stations to routes, compute tariff\n",
    "2. inc current day\n",
    "3. compute costs for the wagons which are at the stations\n",
    "4. check for the newly arrived wagons: move them to destination stations, mark order as done, add profit\n",
    "\n"
   ]
  },
  {
   "cell_type": "code",
   "execution_count": 38,
   "metadata": {},
   "outputs": [],
   "source": [
    "costs_n_profits = []\n",
    "while env.current_step <= max_day:\n",
    "    # print(env.current_step)\n",
    "    my_actions = get_actions(env)\n",
    "    move_cost, stay_cost, arrival_profit = env.step(my_actions)\n",
    "    costs_n_profits.append((move_cost, stay_cost, arrival_profit))"
   ]
  },
  {
   "cell_type": "code",
   "execution_count": 70,
   "metadata": {},
   "outputs": [],
   "source": [
    "# collect results and compute profits!\n",
    "orders = set()\n",
    "stay_cost = []\n",
    "orders_profit = dict()\n",
    "order_wagons = dict()\n",
    "for move, stay, arrival in costs_n_profits:\n",
    "    for k, v in move.items():\n",
    "        orders.add(k)\n",
    "        orders_profit[k] = np.sum(v)\n",
    "        order_wagons[k] = len(v)\n",
    "    stay_cost.append(np.sum(list(stay.values())))\n",
    "#len(costs_n_profits)"
   ]
  },
  {
   "cell_type": "code",
   "execution_count": 71,
   "metadata": {},
   "outputs": [
    {
     "data": {
      "text/plain": [
       "-2664766608"
      ]
     },
     "execution_count": 71,
     "metadata": {},
     "output_type": "execute_result"
    }
   ],
   "source": [
    "profits = np.sum(list(orders_profit.values()))\n",
    "profits - np.sum(stay_cost)"
   ]
  },
  {
   "cell_type": "markdown",
   "metadata": {},
   "source": [
    "## TODO\n",
    "\n",
    "- move idle wagons to the stations where cost is minimal\n"
   ]
  },
  {
   "cell_type": "code",
   "execution_count": null,
   "metadata": {},
   "outputs": [],
   "source": []
  },
  {
   "cell_type": "code",
   "execution_count": null,
   "metadata": {},
   "outputs": [],
   "source": []
  },
  {
   "cell_type": "code",
   "execution_count": null,
   "metadata": {},
   "outputs": [],
   "source": []
  }
 ],
 "metadata": {
  "deepnote": {},
  "deepnote_execution_queue": [],
  "deepnote_notebook_id": "92583036-61c3-49fd-ac62-fab5824ef7f5",
  "kernelspec": {
   "display_name": "Python 3",
   "language": "python",
   "name": "python3"
  },
  "language_info": {
   "codemirror_mode": {
    "name": "ipython",
    "version": 3
   },
   "file_extension": ".py",
   "mimetype": "text/x-python",
   "name": "python",
   "nbconvert_exporter": "python",
   "pygments_lexer": "ipython3",
   "version": "3.7.9"
  }
 },
 "nbformat": 4,
 "nbformat_minor": 2
}
